{
 "cells": [
  {
   "cell_type": "markdown",
   "metadata": {},
   "source": [
    "# El método de K-means"
   ]
  },
  {
   "cell_type": "code",
   "execution_count": 2,
   "metadata": {},
   "outputs": [],
   "source": [
    "import numpy as np\n"
   ]
  },
  {
   "cell_type": "code",
   "execution_count": 3,
   "metadata": {},
   "outputs": [
    {
     "data": {
      "text/plain": [
       "array([[0.65492745, 0.13650843, 0.051426  ],\n",
       "       [0.11908397, 0.46219341, 0.00968542],\n",
       "       [0.80183539, 0.45741649, 0.94270965],\n",
       "       [0.76194325, 0.69578402, 0.75414923],\n",
       "       [0.22382632, 0.38174269, 0.67945658],\n",
       "       [0.50199415, 0.14020055, 0.7235445 ],\n",
       "       [0.45924814, 0.71067272, 0.13279802],\n",
       "       [0.48366336, 0.70231638, 0.88109271],\n",
       "       [0.63178683, 0.67587616, 0.30123613],\n",
       "       [0.77268948, 0.12718858, 0.11580019],\n",
       "       [0.91041578, 0.31222512, 0.74868743],\n",
       "       [0.01676802, 0.10229229, 0.05665928],\n",
       "       [0.11689069, 0.98185623, 0.91198633],\n",
       "       [0.57952142, 0.60507994, 0.51641535],\n",
       "       [0.28114723, 0.23949248, 0.96386827],\n",
       "       [0.61528821, 0.08331377, 0.05115474],\n",
       "       [0.08379958, 0.41562783, 0.44797972],\n",
       "       [0.41074955, 0.72943493, 0.80766013],\n",
       "       [0.3845453 , 0.9025157 , 0.40434339],\n",
       "       [0.50239644, 0.62508444, 0.88968293],\n",
       "       [0.55067102, 0.64302395, 0.89775111],\n",
       "       [0.31563603, 0.67632236, 0.29688345],\n",
       "       [0.78880995, 0.95529454, 0.23686525],\n",
       "       [0.14268451, 0.74744311, 0.90754316],\n",
       "       [0.55098297, 0.17297588, 0.51158229],\n",
       "       [0.67414587, 0.55676821, 0.59160862],\n",
       "       [0.89486337, 0.74198741, 0.97274293],\n",
       "       [0.84301201, 0.41353032, 0.21148522],\n",
       "       [0.47698323, 0.11848469, 0.4108875 ],\n",
       "       [0.5215122 , 0.72781662, 0.51808194]])"
      ]
     },
     "execution_count": 3,
     "metadata": {},
     "output_type": "execute_result"
    }
   ],
   "source": [
    "data = np.random.random(90).reshape(30,3)\n",
    "data"
   ]
  },
  {
   "cell_type": "code",
   "execution_count": 4,
   "metadata": {},
   "outputs": [
    {
     "data": {
      "text/plain": [
       "array([[0.28114723, 0.23949248, 0.96386827],\n",
       "       [0.3845453 , 0.9025157 , 0.40434339]])"
      ]
     },
     "execution_count": 4,
     "metadata": {},
     "output_type": "execute_result"
    }
   ],
   "source": [
    "c1 = np.random.choice(range(len(data)))\n",
    "c2 = np.random.choice(range(len(data)))\n",
    "clust_centers = np.vstack([data[c1], data[c2]])\n",
    "clust_centers"
   ]
  },
  {
   "cell_type": "code",
   "execution_count": 5,
   "metadata": {},
   "outputs": [],
   "source": [
    "from scipy.cluster.vq import vq"
   ]
  },
  {
   "cell_type": "code",
   "execution_count": 6,
   "metadata": {},
   "outputs": [
    {
     "data": {
      "text/plain": [
       "(array([1, 1, 0, 1, 0, 0, 1, 0, 1, 1, 0, 1, 1, 1, 0, 1, 1, 1, 1, 0, 0, 1,\n",
       "        1, 0, 0, 1, 1, 1, 0, 1]),\n",
       " array([0.88567732, 0.64815765, 0.56484929, 0.55455507, 0.32312663,\n",
       "        0.34115651, 0.3407655 , 0.51192825, 0.35089167, 0.9138081 ,\n",
       "        0.66900803, 0.94683783, 0.57934037, 0.37288583, 0.        ,\n",
       "        0.92145337, 0.57394417, 0.43966807, 0.        , 0.45070593,\n",
       "        0.48974708, 0.25972977, 0.4407544 , 0.5294887 , 0.53084686,\n",
       "        0.48834218, 0.78055871, 0.69749029, 0.59898443, 0.24943168]))"
      ]
     },
     "execution_count": 6,
     "metadata": {},
     "output_type": "execute_result"
    }
   ],
   "source": [
    "vq(data, clust_centers)"
   ]
  },
  {
   "cell_type": "code",
   "execution_count": 7,
   "metadata": {},
   "outputs": [],
   "source": [
    "from scipy.cluster.vq import kmeans"
   ]
  },
  {
   "cell_type": "code",
   "execution_count": 8,
   "metadata": {},
   "outputs": [
    {
     "data": {
      "text/plain": [
       "(array([[0.52239128, 0.58047954, 0.7941863 ],\n",
       "        [0.47954008, 0.42519976, 0.2313419 ]]),\n",
       " 0.3691435458225206)"
      ]
     },
     "execution_count": 8,
     "metadata": {},
     "output_type": "execute_result"
    }
   ],
   "source": [
    "kmeans(data, clust_centers)"
   ]
  },
  {
   "cell_type": "code",
   "execution_count": 14,
   "metadata": {},
   "outputs": [
    {
     "data": {
      "text/plain": [
       "(array([[0.48684737, 0.38848315, 0.21803409],\n",
       "        [0.5142827 , 0.59942284, 0.77125437]]),\n",
       " 0.36789674551488916)"
      ]
     },
     "execution_count": 14,
     "metadata": {},
     "output_type": "execute_result"
    }
   ],
   "source": [
    "kmeans(data, 2)"
   ]
  },
  {
   "cell_type": "code",
   "execution_count": null,
   "metadata": {},
   "outputs": [],
   "source": []
  }
 ],
 "metadata": {
  "kernelspec": {
   "display_name": "Python 3",
   "language": "python",
   "name": "python3"
  },
  "language_info": {
   "codemirror_mode": {
    "name": "ipython",
    "version": 3
   },
   "file_extension": ".py",
   "mimetype": "text/x-python",
   "name": "python",
   "nbconvert_exporter": "python",
   "pygments_lexer": "ipython3",
   "version": "3.7.6"
  }
 },
 "nbformat": 4,
 "nbformat_minor": 4
}
