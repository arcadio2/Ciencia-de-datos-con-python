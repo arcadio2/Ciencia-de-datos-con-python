{
 "cells": [
  {
   "cell_type": "markdown",
   "metadata": {},
   "source": [
    "# Regresión logistica para predicciones bancarias"
   ]
  },
  {
   "cell_type": "code",
   "execution_count": 8,
   "metadata": {},
   "outputs": [],
   "source": [
    "import pandas as pd \n",
    "import numpy as np\n",
    "import matplotlib.pyplot as plt\n",
    "data = pd.read_csv(\"datasets/bank/bank.csv\", sep=\";\")"
   ]
  },
  {
   "cell_type": "code",
   "execution_count": 9,
   "metadata": {},
   "outputs": [
    {
     "data": {
      "text/html": [
       "<div>\n",
       "<style scoped>\n",
       "    .dataframe tbody tr th:only-of-type {\n",
       "        vertical-align: middle;\n",
       "    }\n",
       "\n",
       "    .dataframe tbody tr th {\n",
       "        vertical-align: top;\n",
       "    }\n",
       "\n",
       "    .dataframe thead th {\n",
       "        text-align: right;\n",
       "    }\n",
       "</style>\n",
       "<table border=\"1\" class=\"dataframe\">\n",
       "  <thead>\n",
       "    <tr style=\"text-align: right;\">\n",
       "      <th></th>\n",
       "      <th>age</th>\n",
       "      <th>job</th>\n",
       "      <th>marital</th>\n",
       "      <th>education</th>\n",
       "      <th>default</th>\n",
       "      <th>housing</th>\n",
       "      <th>loan</th>\n",
       "      <th>contact</th>\n",
       "      <th>month</th>\n",
       "      <th>day_of_week</th>\n",
       "      <th>...</th>\n",
       "      <th>campaign</th>\n",
       "      <th>pdays</th>\n",
       "      <th>previous</th>\n",
       "      <th>poutcome</th>\n",
       "      <th>emp.var.rate</th>\n",
       "      <th>cons.price.idx</th>\n",
       "      <th>cons.conf.idx</th>\n",
       "      <th>euribor3m</th>\n",
       "      <th>nr.employed</th>\n",
       "      <th>y</th>\n",
       "    </tr>\n",
       "  </thead>\n",
       "  <tbody>\n",
       "    <tr>\n",
       "      <th>0</th>\n",
       "      <td>30</td>\n",
       "      <td>blue-collar</td>\n",
       "      <td>married</td>\n",
       "      <td>basic.9y</td>\n",
       "      <td>no</td>\n",
       "      <td>yes</td>\n",
       "      <td>no</td>\n",
       "      <td>cellular</td>\n",
       "      <td>may</td>\n",
       "      <td>fri</td>\n",
       "      <td>...</td>\n",
       "      <td>2</td>\n",
       "      <td>999</td>\n",
       "      <td>0</td>\n",
       "      <td>nonexistent</td>\n",
       "      <td>-1.8</td>\n",
       "      <td>92.893</td>\n",
       "      <td>-46.2</td>\n",
       "      <td>1.313</td>\n",
       "      <td>5099.1</td>\n",
       "      <td>no</td>\n",
       "    </tr>\n",
       "    <tr>\n",
       "      <th>1</th>\n",
       "      <td>39</td>\n",
       "      <td>services</td>\n",
       "      <td>single</td>\n",
       "      <td>high.school</td>\n",
       "      <td>no</td>\n",
       "      <td>no</td>\n",
       "      <td>no</td>\n",
       "      <td>telephone</td>\n",
       "      <td>may</td>\n",
       "      <td>fri</td>\n",
       "      <td>...</td>\n",
       "      <td>4</td>\n",
       "      <td>999</td>\n",
       "      <td>0</td>\n",
       "      <td>nonexistent</td>\n",
       "      <td>1.1</td>\n",
       "      <td>93.994</td>\n",
       "      <td>-36.4</td>\n",
       "      <td>4.855</td>\n",
       "      <td>5191.0</td>\n",
       "      <td>no</td>\n",
       "    </tr>\n",
       "    <tr>\n",
       "      <th>2</th>\n",
       "      <td>25</td>\n",
       "      <td>services</td>\n",
       "      <td>married</td>\n",
       "      <td>high.school</td>\n",
       "      <td>no</td>\n",
       "      <td>yes</td>\n",
       "      <td>no</td>\n",
       "      <td>telephone</td>\n",
       "      <td>jun</td>\n",
       "      <td>wed</td>\n",
       "      <td>...</td>\n",
       "      <td>1</td>\n",
       "      <td>999</td>\n",
       "      <td>0</td>\n",
       "      <td>nonexistent</td>\n",
       "      <td>1.4</td>\n",
       "      <td>94.465</td>\n",
       "      <td>-41.8</td>\n",
       "      <td>4.962</td>\n",
       "      <td>5228.1</td>\n",
       "      <td>no</td>\n",
       "    </tr>\n",
       "    <tr>\n",
       "      <th>3</th>\n",
       "      <td>38</td>\n",
       "      <td>services</td>\n",
       "      <td>married</td>\n",
       "      <td>basic.9y</td>\n",
       "      <td>no</td>\n",
       "      <td>unknown</td>\n",
       "      <td>unknown</td>\n",
       "      <td>telephone</td>\n",
       "      <td>jun</td>\n",
       "      <td>fri</td>\n",
       "      <td>...</td>\n",
       "      <td>3</td>\n",
       "      <td>999</td>\n",
       "      <td>0</td>\n",
       "      <td>nonexistent</td>\n",
       "      <td>1.4</td>\n",
       "      <td>94.465</td>\n",
       "      <td>-41.8</td>\n",
       "      <td>4.959</td>\n",
       "      <td>5228.1</td>\n",
       "      <td>no</td>\n",
       "    </tr>\n",
       "    <tr>\n",
       "      <th>4</th>\n",
       "      <td>47</td>\n",
       "      <td>admin.</td>\n",
       "      <td>married</td>\n",
       "      <td>university.degree</td>\n",
       "      <td>no</td>\n",
       "      <td>yes</td>\n",
       "      <td>no</td>\n",
       "      <td>cellular</td>\n",
       "      <td>nov</td>\n",
       "      <td>mon</td>\n",
       "      <td>...</td>\n",
       "      <td>1</td>\n",
       "      <td>999</td>\n",
       "      <td>0</td>\n",
       "      <td>nonexistent</td>\n",
       "      <td>-0.1</td>\n",
       "      <td>93.200</td>\n",
       "      <td>-42.0</td>\n",
       "      <td>4.191</td>\n",
       "      <td>5195.8</td>\n",
       "      <td>no</td>\n",
       "    </tr>\n",
       "  </tbody>\n",
       "</table>\n",
       "<p>5 rows × 21 columns</p>\n",
       "</div>"
      ],
      "text/plain": [
       "   age          job  marital          education default  housing     loan  \\\n",
       "0   30  blue-collar  married           basic.9y      no      yes       no   \n",
       "1   39     services   single        high.school      no       no       no   \n",
       "2   25     services  married        high.school      no      yes       no   \n",
       "3   38     services  married           basic.9y      no  unknown  unknown   \n",
       "4   47       admin.  married  university.degree      no      yes       no   \n",
       "\n",
       "     contact month day_of_week  ...  campaign  pdays  previous     poutcome  \\\n",
       "0   cellular   may         fri  ...         2    999         0  nonexistent   \n",
       "1  telephone   may         fri  ...         4    999         0  nonexistent   \n",
       "2  telephone   jun         wed  ...         1    999         0  nonexistent   \n",
       "3  telephone   jun         fri  ...         3    999         0  nonexistent   \n",
       "4   cellular   nov         mon  ...         1    999         0  nonexistent   \n",
       "\n",
       "  emp.var.rate  cons.price.idx  cons.conf.idx  euribor3m  nr.employed   y  \n",
       "0         -1.8          92.893          -46.2      1.313       5099.1  no  \n",
       "1          1.1          93.994          -36.4      4.855       5191.0  no  \n",
       "2          1.4          94.465          -41.8      4.962       5228.1  no  \n",
       "3          1.4          94.465          -41.8      4.959       5228.1  no  \n",
       "4         -0.1          93.200          -42.0      4.191       5195.8  no  \n",
       "\n",
       "[5 rows x 21 columns]"
      ]
     },
     "execution_count": 9,
     "metadata": {},
     "output_type": "execute_result"
    }
   ],
   "source": [
    "data.head()"
   ]
  },
  {
   "cell_type": "code",
   "execution_count": 10,
   "metadata": {},
   "outputs": [
    {
     "data": {
      "text/plain": [
       "(4119, 21)"
      ]
     },
     "execution_count": 10,
     "metadata": {},
     "output_type": "execute_result"
    }
   ],
   "source": [
    "data.shape"
   ]
  },
  {
   "cell_type": "code",
   "execution_count": 11,
   "metadata": {},
   "outputs": [
    {
     "data": {
      "text/plain": [
       "array(['age', 'job', 'marital', 'education', 'default', 'housing', 'loan',\n",
       "       'contact', 'month', 'day_of_week', 'duration', 'campaign', 'pdays',\n",
       "       'previous', 'poutcome', 'emp.var.rate', 'cons.price.idx',\n",
       "       'cons.conf.idx', 'euribor3m', 'nr.employed', 'y'], dtype=object)"
      ]
     },
     "execution_count": 11,
     "metadata": {},
     "output_type": "execute_result"
    }
   ],
   "source": [
    "data.columns.values"
   ]
  },
  {
   "cell_type": "code",
   "execution_count": 12,
   "metadata": {},
   "outputs": [],
   "source": [
    "data['y'] = (data[\"y\"]==\"yes\").astype(int)"
   ]
  },
  {
   "cell_type": "code",
   "execution_count": 13,
   "metadata": {},
   "outputs": [
    {
     "data": {
      "text/html": [
       "<div>\n",
       "<style scoped>\n",
       "    .dataframe tbody tr th:only-of-type {\n",
       "        vertical-align: middle;\n",
       "    }\n",
       "\n",
       "    .dataframe tbody tr th {\n",
       "        vertical-align: top;\n",
       "    }\n",
       "\n",
       "    .dataframe thead th {\n",
       "        text-align: right;\n",
       "    }\n",
       "</style>\n",
       "<table border=\"1\" class=\"dataframe\">\n",
       "  <thead>\n",
       "    <tr style=\"text-align: right;\">\n",
       "      <th></th>\n",
       "      <th>age</th>\n",
       "      <th>job</th>\n",
       "      <th>marital</th>\n",
       "      <th>education</th>\n",
       "      <th>default</th>\n",
       "      <th>housing</th>\n",
       "      <th>loan</th>\n",
       "      <th>contact</th>\n",
       "      <th>month</th>\n",
       "      <th>day_of_week</th>\n",
       "      <th>...</th>\n",
       "      <th>campaign</th>\n",
       "      <th>pdays</th>\n",
       "      <th>previous</th>\n",
       "      <th>poutcome</th>\n",
       "      <th>emp.var.rate</th>\n",
       "      <th>cons.price.idx</th>\n",
       "      <th>cons.conf.idx</th>\n",
       "      <th>euribor3m</th>\n",
       "      <th>nr.employed</th>\n",
       "      <th>y</th>\n",
       "    </tr>\n",
       "  </thead>\n",
       "  <tbody>\n",
       "    <tr>\n",
       "      <th>0</th>\n",
       "      <td>30</td>\n",
       "      <td>blue-collar</td>\n",
       "      <td>married</td>\n",
       "      <td>basic.9y</td>\n",
       "      <td>no</td>\n",
       "      <td>yes</td>\n",
       "      <td>no</td>\n",
       "      <td>cellular</td>\n",
       "      <td>may</td>\n",
       "      <td>fri</td>\n",
       "      <td>...</td>\n",
       "      <td>2</td>\n",
       "      <td>999</td>\n",
       "      <td>0</td>\n",
       "      <td>nonexistent</td>\n",
       "      <td>-1.8</td>\n",
       "      <td>92.893</td>\n",
       "      <td>-46.2</td>\n",
       "      <td>1.313</td>\n",
       "      <td>5099.1</td>\n",
       "      <td>0</td>\n",
       "    </tr>\n",
       "    <tr>\n",
       "      <th>1</th>\n",
       "      <td>39</td>\n",
       "      <td>services</td>\n",
       "      <td>single</td>\n",
       "      <td>high.school</td>\n",
       "      <td>no</td>\n",
       "      <td>no</td>\n",
       "      <td>no</td>\n",
       "      <td>telephone</td>\n",
       "      <td>may</td>\n",
       "      <td>fri</td>\n",
       "      <td>...</td>\n",
       "      <td>4</td>\n",
       "      <td>999</td>\n",
       "      <td>0</td>\n",
       "      <td>nonexistent</td>\n",
       "      <td>1.1</td>\n",
       "      <td>93.994</td>\n",
       "      <td>-36.4</td>\n",
       "      <td>4.855</td>\n",
       "      <td>5191.0</td>\n",
       "      <td>0</td>\n",
       "    </tr>\n",
       "    <tr>\n",
       "      <th>2</th>\n",
       "      <td>25</td>\n",
       "      <td>services</td>\n",
       "      <td>married</td>\n",
       "      <td>high.school</td>\n",
       "      <td>no</td>\n",
       "      <td>yes</td>\n",
       "      <td>no</td>\n",
       "      <td>telephone</td>\n",
       "      <td>jun</td>\n",
       "      <td>wed</td>\n",
       "      <td>...</td>\n",
       "      <td>1</td>\n",
       "      <td>999</td>\n",
       "      <td>0</td>\n",
       "      <td>nonexistent</td>\n",
       "      <td>1.4</td>\n",
       "      <td>94.465</td>\n",
       "      <td>-41.8</td>\n",
       "      <td>4.962</td>\n",
       "      <td>5228.1</td>\n",
       "      <td>0</td>\n",
       "    </tr>\n",
       "    <tr>\n",
       "      <th>3</th>\n",
       "      <td>38</td>\n",
       "      <td>services</td>\n",
       "      <td>married</td>\n",
       "      <td>basic.9y</td>\n",
       "      <td>no</td>\n",
       "      <td>unknown</td>\n",
       "      <td>unknown</td>\n",
       "      <td>telephone</td>\n",
       "      <td>jun</td>\n",
       "      <td>fri</td>\n",
       "      <td>...</td>\n",
       "      <td>3</td>\n",
       "      <td>999</td>\n",
       "      <td>0</td>\n",
       "      <td>nonexistent</td>\n",
       "      <td>1.4</td>\n",
       "      <td>94.465</td>\n",
       "      <td>-41.8</td>\n",
       "      <td>4.959</td>\n",
       "      <td>5228.1</td>\n",
       "      <td>0</td>\n",
       "    </tr>\n",
       "    <tr>\n",
       "      <th>4</th>\n",
       "      <td>47</td>\n",
       "      <td>admin.</td>\n",
       "      <td>married</td>\n",
       "      <td>university.degree</td>\n",
       "      <td>no</td>\n",
       "      <td>yes</td>\n",
       "      <td>no</td>\n",
       "      <td>cellular</td>\n",
       "      <td>nov</td>\n",
       "      <td>mon</td>\n",
       "      <td>...</td>\n",
       "      <td>1</td>\n",
       "      <td>999</td>\n",
       "      <td>0</td>\n",
       "      <td>nonexistent</td>\n",
       "      <td>-0.1</td>\n",
       "      <td>93.200</td>\n",
       "      <td>-42.0</td>\n",
       "      <td>4.191</td>\n",
       "      <td>5195.8</td>\n",
       "      <td>0</td>\n",
       "    </tr>\n",
       "  </tbody>\n",
       "</table>\n",
       "<p>5 rows × 21 columns</p>\n",
       "</div>"
      ],
      "text/plain": [
       "   age          job  marital          education default  housing     loan  \\\n",
       "0   30  blue-collar  married           basic.9y      no      yes       no   \n",
       "1   39     services   single        high.school      no       no       no   \n",
       "2   25     services  married        high.school      no      yes       no   \n",
       "3   38     services  married           basic.9y      no  unknown  unknown   \n",
       "4   47       admin.  married  university.degree      no      yes       no   \n",
       "\n",
       "     contact month day_of_week  ...  campaign  pdays  previous     poutcome  \\\n",
       "0   cellular   may         fri  ...         2    999         0  nonexistent   \n",
       "1  telephone   may         fri  ...         4    999         0  nonexistent   \n",
       "2  telephone   jun         wed  ...         1    999         0  nonexistent   \n",
       "3  telephone   jun         fri  ...         3    999         0  nonexistent   \n",
       "4   cellular   nov         mon  ...         1    999         0  nonexistent   \n",
       "\n",
       "  emp.var.rate  cons.price.idx  cons.conf.idx  euribor3m  nr.employed  y  \n",
       "0         -1.8          92.893          -46.2      1.313       5099.1  0  \n",
       "1          1.1          93.994          -36.4      4.855       5191.0  0  \n",
       "2          1.4          94.465          -41.8      4.962       5228.1  0  \n",
       "3          1.4          94.465          -41.8      4.959       5228.1  0  \n",
       "4         -0.1          93.200          -42.0      4.191       5195.8  0  \n",
       "\n",
       "[5 rows x 21 columns]"
      ]
     },
     "execution_count": 13,
     "metadata": {},
     "output_type": "execute_result"
    }
   ],
   "source": [
    "data.head()"
   ]
  },
  {
   "cell_type": "code",
   "execution_count": 14,
   "metadata": {},
   "outputs": [],
   "source": [
    "data[\"education\"] = np.where(data[\"education\"]==\"basic.4y\", \"Basic\", data[\"education\"])\n",
    "data[\"education\"] = np.where(data[\"education\"]==\"basic.6y\", \"Basic\", data[\"education\"])\n",
    "data[\"education\"] = np.where(data[\"education\"]==\"basic.9y\", \"Basic\", data[\"education\"])\n",
    "\n",
    "data[\"education\"] = np.where(data[\"education\"]==\"high.school\", \"High School\", data[\"education\"])\n",
    "data[\"education\"] = np.where(data[\"education\"]==\"professional.course\", \"Professional Course\", data[\"education\"])\n",
    "data[\"education\"] = np.where(data[\"education\"]==\"university.degree\", \"University Degree\", data[\"education\"])\n",
    "data[\"education\"] = np.where(data[\"education\"]==\"illiterate\", \"Illiterate\", data[\"education\"])\n",
    "data[\"education\"] = np.where(data[\"education\"]==\"unknown\", \"Unknown\", data[\"education\"])"
   ]
  },
  {
   "cell_type": "code",
   "execution_count": 15,
   "metadata": {},
   "outputs": [
    {
     "data": {
      "text/html": [
       "<div>\n",
       "<style scoped>\n",
       "    .dataframe tbody tr th:only-of-type {\n",
       "        vertical-align: middle;\n",
       "    }\n",
       "\n",
       "    .dataframe tbody tr th {\n",
       "        vertical-align: top;\n",
       "    }\n",
       "\n",
       "    .dataframe thead th {\n",
       "        text-align: right;\n",
       "    }\n",
       "</style>\n",
       "<table border=\"1\" class=\"dataframe\">\n",
       "  <thead>\n",
       "    <tr style=\"text-align: right;\">\n",
       "      <th></th>\n",
       "      <th>age</th>\n",
       "      <th>job</th>\n",
       "      <th>marital</th>\n",
       "      <th>education</th>\n",
       "      <th>default</th>\n",
       "      <th>housing</th>\n",
       "      <th>loan</th>\n",
       "      <th>contact</th>\n",
       "      <th>month</th>\n",
       "      <th>day_of_week</th>\n",
       "      <th>...</th>\n",
       "      <th>campaign</th>\n",
       "      <th>pdays</th>\n",
       "      <th>previous</th>\n",
       "      <th>poutcome</th>\n",
       "      <th>emp.var.rate</th>\n",
       "      <th>cons.price.idx</th>\n",
       "      <th>cons.conf.idx</th>\n",
       "      <th>euribor3m</th>\n",
       "      <th>nr.employed</th>\n",
       "      <th>y</th>\n",
       "    </tr>\n",
       "  </thead>\n",
       "  <tbody>\n",
       "    <tr>\n",
       "      <th>0</th>\n",
       "      <td>30</td>\n",
       "      <td>blue-collar</td>\n",
       "      <td>married</td>\n",
       "      <td>Basic</td>\n",
       "      <td>no</td>\n",
       "      <td>yes</td>\n",
       "      <td>no</td>\n",
       "      <td>cellular</td>\n",
       "      <td>may</td>\n",
       "      <td>fri</td>\n",
       "      <td>...</td>\n",
       "      <td>2</td>\n",
       "      <td>999</td>\n",
       "      <td>0</td>\n",
       "      <td>nonexistent</td>\n",
       "      <td>-1.8</td>\n",
       "      <td>92.893</td>\n",
       "      <td>-46.2</td>\n",
       "      <td>1.313</td>\n",
       "      <td>5099.1</td>\n",
       "      <td>0</td>\n",
       "    </tr>\n",
       "    <tr>\n",
       "      <th>1</th>\n",
       "      <td>39</td>\n",
       "      <td>services</td>\n",
       "      <td>single</td>\n",
       "      <td>High School</td>\n",
       "      <td>no</td>\n",
       "      <td>no</td>\n",
       "      <td>no</td>\n",
       "      <td>telephone</td>\n",
       "      <td>may</td>\n",
       "      <td>fri</td>\n",
       "      <td>...</td>\n",
       "      <td>4</td>\n",
       "      <td>999</td>\n",
       "      <td>0</td>\n",
       "      <td>nonexistent</td>\n",
       "      <td>1.1</td>\n",
       "      <td>93.994</td>\n",
       "      <td>-36.4</td>\n",
       "      <td>4.855</td>\n",
       "      <td>5191.0</td>\n",
       "      <td>0</td>\n",
       "    </tr>\n",
       "    <tr>\n",
       "      <th>2</th>\n",
       "      <td>25</td>\n",
       "      <td>services</td>\n",
       "      <td>married</td>\n",
       "      <td>High School</td>\n",
       "      <td>no</td>\n",
       "      <td>yes</td>\n",
       "      <td>no</td>\n",
       "      <td>telephone</td>\n",
       "      <td>jun</td>\n",
       "      <td>wed</td>\n",
       "      <td>...</td>\n",
       "      <td>1</td>\n",
       "      <td>999</td>\n",
       "      <td>0</td>\n",
       "      <td>nonexistent</td>\n",
       "      <td>1.4</td>\n",
       "      <td>94.465</td>\n",
       "      <td>-41.8</td>\n",
       "      <td>4.962</td>\n",
       "      <td>5228.1</td>\n",
       "      <td>0</td>\n",
       "    </tr>\n",
       "    <tr>\n",
       "      <th>3</th>\n",
       "      <td>38</td>\n",
       "      <td>services</td>\n",
       "      <td>married</td>\n",
       "      <td>Basic</td>\n",
       "      <td>no</td>\n",
       "      <td>unknown</td>\n",
       "      <td>unknown</td>\n",
       "      <td>telephone</td>\n",
       "      <td>jun</td>\n",
       "      <td>fri</td>\n",
       "      <td>...</td>\n",
       "      <td>3</td>\n",
       "      <td>999</td>\n",
       "      <td>0</td>\n",
       "      <td>nonexistent</td>\n",
       "      <td>1.4</td>\n",
       "      <td>94.465</td>\n",
       "      <td>-41.8</td>\n",
       "      <td>4.959</td>\n",
       "      <td>5228.1</td>\n",
       "      <td>0</td>\n",
       "    </tr>\n",
       "    <tr>\n",
       "      <th>4</th>\n",
       "      <td>47</td>\n",
       "      <td>admin.</td>\n",
       "      <td>married</td>\n",
       "      <td>University Degree</td>\n",
       "      <td>no</td>\n",
       "      <td>yes</td>\n",
       "      <td>no</td>\n",
       "      <td>cellular</td>\n",
       "      <td>nov</td>\n",
       "      <td>mon</td>\n",
       "      <td>...</td>\n",
       "      <td>1</td>\n",
       "      <td>999</td>\n",
       "      <td>0</td>\n",
       "      <td>nonexistent</td>\n",
       "      <td>-0.1</td>\n",
       "      <td>93.200</td>\n",
       "      <td>-42.0</td>\n",
       "      <td>4.191</td>\n",
       "      <td>5195.8</td>\n",
       "      <td>0</td>\n",
       "    </tr>\n",
       "  </tbody>\n",
       "</table>\n",
       "<p>5 rows × 21 columns</p>\n",
       "</div>"
      ],
      "text/plain": [
       "   age          job  marital          education default  housing     loan  \\\n",
       "0   30  blue-collar  married              Basic      no      yes       no   \n",
       "1   39     services   single        High School      no       no       no   \n",
       "2   25     services  married        High School      no      yes       no   \n",
       "3   38     services  married              Basic      no  unknown  unknown   \n",
       "4   47       admin.  married  University Degree      no      yes       no   \n",
       "\n",
       "     contact month day_of_week  ...  campaign  pdays  previous     poutcome  \\\n",
       "0   cellular   may         fri  ...         2    999         0  nonexistent   \n",
       "1  telephone   may         fri  ...         4    999         0  nonexistent   \n",
       "2  telephone   jun         wed  ...         1    999         0  nonexistent   \n",
       "3  telephone   jun         fri  ...         3    999         0  nonexistent   \n",
       "4   cellular   nov         mon  ...         1    999         0  nonexistent   \n",
       "\n",
       "  emp.var.rate  cons.price.idx  cons.conf.idx  euribor3m  nr.employed  y  \n",
       "0         -1.8          92.893          -46.2      1.313       5099.1  0  \n",
       "1          1.1          93.994          -36.4      4.855       5191.0  0  \n",
       "2          1.4          94.465          -41.8      4.962       5228.1  0  \n",
       "3          1.4          94.465          -41.8      4.959       5228.1  0  \n",
       "4         -0.1          93.200          -42.0      4.191       5195.8  0  \n",
       "\n",
       "[5 rows x 21 columns]"
      ]
     },
     "execution_count": 15,
     "metadata": {},
     "output_type": "execute_result"
    }
   ],
   "source": [
    "data.head()"
   ]
  },
  {
   "cell_type": "code",
   "execution_count": 16,
   "metadata": {},
   "outputs": [
    {
     "data": {
      "text/plain": [
       "array(['Basic', 'High School', 'University Degree', 'Professional Course',\n",
       "       'Unknown', 'Illiterate'], dtype=object)"
      ]
     },
     "execution_count": 16,
     "metadata": {},
     "output_type": "execute_result"
    }
   ],
   "source": [
    "data[\"education\"].unique()"
   ]
  },
  {
   "cell_type": "code",
   "execution_count": 17,
   "metadata": {},
   "outputs": [
    {
     "data": {
      "text/plain": [
       "0    3668\n",
       "1     451\n",
       "Name: y, dtype: int64"
      ]
     },
     "execution_count": 17,
     "metadata": {},
     "output_type": "execute_result"
    }
   ],
   "source": [
    "data[\"y\"].value_counts()"
   ]
  },
  {
   "cell_type": "code",
   "execution_count": 18,
   "metadata": {},
   "outputs": [
    {
     "data": {
      "text/html": [
       "<div>\n",
       "<style scoped>\n",
       "    .dataframe tbody tr th:only-of-type {\n",
       "        vertical-align: middle;\n",
       "    }\n",
       "\n",
       "    .dataframe tbody tr th {\n",
       "        vertical-align: top;\n",
       "    }\n",
       "\n",
       "    .dataframe thead th {\n",
       "        text-align: right;\n",
       "    }\n",
       "</style>\n",
       "<table border=\"1\" class=\"dataframe\">\n",
       "  <thead>\n",
       "    <tr style=\"text-align: right;\">\n",
       "      <th></th>\n",
       "      <th>age</th>\n",
       "      <th>duration</th>\n",
       "      <th>campaign</th>\n",
       "      <th>pdays</th>\n",
       "      <th>previous</th>\n",
       "      <th>emp.var.rate</th>\n",
       "      <th>cons.price.idx</th>\n",
       "      <th>cons.conf.idx</th>\n",
       "      <th>euribor3m</th>\n",
       "      <th>nr.employed</th>\n",
       "    </tr>\n",
       "    <tr>\n",
       "      <th>y</th>\n",
       "      <th></th>\n",
       "      <th></th>\n",
       "      <th></th>\n",
       "      <th></th>\n",
       "      <th></th>\n",
       "      <th></th>\n",
       "      <th></th>\n",
       "      <th></th>\n",
       "      <th></th>\n",
       "      <th></th>\n",
       "    </tr>\n",
       "  </thead>\n",
       "  <tbody>\n",
       "    <tr>\n",
       "      <th>0</th>\n",
       "      <td>39.895311</td>\n",
       "      <td>219.40976</td>\n",
       "      <td>2.605780</td>\n",
       "      <td>982.763086</td>\n",
       "      <td>0.141767</td>\n",
       "      <td>0.240185</td>\n",
       "      <td>93.599677</td>\n",
       "      <td>-40.586723</td>\n",
       "      <td>3.802826</td>\n",
       "      <td>5175.502072</td>\n",
       "    </tr>\n",
       "    <tr>\n",
       "      <th>1</th>\n",
       "      <td>41.889135</td>\n",
       "      <td>560.78714</td>\n",
       "      <td>1.980044</td>\n",
       "      <td>778.722838</td>\n",
       "      <td>0.585366</td>\n",
       "      <td>-1.177384</td>\n",
       "      <td>93.417268</td>\n",
       "      <td>-39.786475</td>\n",
       "      <td>2.145448</td>\n",
       "      <td>5093.118625</td>\n",
       "    </tr>\n",
       "  </tbody>\n",
       "</table>\n",
       "</div>"
      ],
      "text/plain": [
       "         age   duration  campaign       pdays  previous  emp.var.rate  \\\n",
       "y                                                                       \n",
       "0  39.895311  219.40976  2.605780  982.763086  0.141767      0.240185   \n",
       "1  41.889135  560.78714  1.980044  778.722838  0.585366     -1.177384   \n",
       "\n",
       "   cons.price.idx  cons.conf.idx  euribor3m  nr.employed  \n",
       "y                                                         \n",
       "0       93.599677     -40.586723   3.802826  5175.502072  \n",
       "1       93.417268     -39.786475   2.145448  5093.118625  "
      ]
     },
     "execution_count": 18,
     "metadata": {},
     "output_type": "execute_result"
    }
   ],
   "source": [
    "data.groupby(\"y\").mean()"
   ]
  },
  {
   "cell_type": "code",
   "execution_count": 19,
   "metadata": {},
   "outputs": [
    {
     "data": {
      "text/html": [
       "<div>\n",
       "<style scoped>\n",
       "    .dataframe tbody tr th:only-of-type {\n",
       "        vertical-align: middle;\n",
       "    }\n",
       "\n",
       "    .dataframe tbody tr th {\n",
       "        vertical-align: top;\n",
       "    }\n",
       "\n",
       "    .dataframe thead th {\n",
       "        text-align: right;\n",
       "    }\n",
       "</style>\n",
       "<table border=\"1\" class=\"dataframe\">\n",
       "  <thead>\n",
       "    <tr style=\"text-align: right;\">\n",
       "      <th></th>\n",
       "      <th>age</th>\n",
       "      <th>duration</th>\n",
       "      <th>campaign</th>\n",
       "      <th>pdays</th>\n",
       "      <th>previous</th>\n",
       "      <th>emp.var.rate</th>\n",
       "      <th>cons.price.idx</th>\n",
       "      <th>cons.conf.idx</th>\n",
       "      <th>euribor3m</th>\n",
       "      <th>nr.employed</th>\n",
       "      <th>y</th>\n",
       "    </tr>\n",
       "    <tr>\n",
       "      <th>education</th>\n",
       "      <th></th>\n",
       "      <th></th>\n",
       "      <th></th>\n",
       "      <th></th>\n",
       "      <th></th>\n",
       "      <th></th>\n",
       "      <th></th>\n",
       "      <th></th>\n",
       "      <th></th>\n",
       "      <th></th>\n",
       "      <th></th>\n",
       "    </tr>\n",
       "  </thead>\n",
       "  <tbody>\n",
       "    <tr>\n",
       "      <th>Basic</th>\n",
       "      <td>42.337124</td>\n",
       "      <td>253.898457</td>\n",
       "      <td>2.429732</td>\n",
       "      <td>978.815597</td>\n",
       "      <td>0.149472</td>\n",
       "      <td>0.237368</td>\n",
       "      <td>93.658600</td>\n",
       "      <td>-41.120552</td>\n",
       "      <td>3.775701</td>\n",
       "      <td>5174.133144</td>\n",
       "      <td>0.079610</td>\n",
       "    </tr>\n",
       "    <tr>\n",
       "      <th>High School</th>\n",
       "      <td>38.097720</td>\n",
       "      <td>258.534202</td>\n",
       "      <td>2.630836</td>\n",
       "      <td>958.022801</td>\n",
       "      <td>0.206298</td>\n",
       "      <td>-0.002497</td>\n",
       "      <td>93.564314</td>\n",
       "      <td>-40.995765</td>\n",
       "      <td>3.511732</td>\n",
       "      <td>5163.212595</td>\n",
       "      <td>0.105320</td>\n",
       "    </tr>\n",
       "    <tr>\n",
       "      <th>Illiterate</th>\n",
       "      <td>42.000000</td>\n",
       "      <td>146.000000</td>\n",
       "      <td>4.000000</td>\n",
       "      <td>999.000000</td>\n",
       "      <td>0.000000</td>\n",
       "      <td>-2.900000</td>\n",
       "      <td>92.201000</td>\n",
       "      <td>-31.400000</td>\n",
       "      <td>0.834000</td>\n",
       "      <td>5076.200000</td>\n",
       "      <td>0.000000</td>\n",
       "    </tr>\n",
       "    <tr>\n",
       "      <th>Professional Course</th>\n",
       "      <td>40.207477</td>\n",
       "      <td>278.816822</td>\n",
       "      <td>2.512150</td>\n",
       "      <td>958.211215</td>\n",
       "      <td>0.194393</td>\n",
       "      <td>0.163925</td>\n",
       "      <td>93.599630</td>\n",
       "      <td>-40.127664</td>\n",
       "      <td>3.701426</td>\n",
       "      <td>5167.595140</td>\n",
       "      <td>0.121495</td>\n",
       "    </tr>\n",
       "    <tr>\n",
       "      <th>University Degree</th>\n",
       "      <td>39.017405</td>\n",
       "      <td>247.707278</td>\n",
       "      <td>2.583070</td>\n",
       "      <td>947.900316</td>\n",
       "      <td>0.207278</td>\n",
       "      <td>-0.009731</td>\n",
       "      <td>93.499109</td>\n",
       "      <td>-39.830063</td>\n",
       "      <td>3.547132</td>\n",
       "      <td>5163.023180</td>\n",
       "      <td>0.130538</td>\n",
       "    </tr>\n",
       "    <tr>\n",
       "      <th>Unknown</th>\n",
       "      <td>42.826347</td>\n",
       "      <td>267.281437</td>\n",
       "      <td>2.538922</td>\n",
       "      <td>939.700599</td>\n",
       "      <td>0.263473</td>\n",
       "      <td>-0.074251</td>\n",
       "      <td>93.637455</td>\n",
       "      <td>-39.487425</td>\n",
       "      <td>3.410174</td>\n",
       "      <td>5151.260479</td>\n",
       "      <td>0.155689</td>\n",
       "    </tr>\n",
       "  </tbody>\n",
       "</table>\n",
       "</div>"
      ],
      "text/plain": [
       "                           age    duration  campaign       pdays  previous  \\\n",
       "education                                                                    \n",
       "Basic                42.337124  253.898457  2.429732  978.815597  0.149472   \n",
       "High School          38.097720  258.534202  2.630836  958.022801  0.206298   \n",
       "Illiterate           42.000000  146.000000  4.000000  999.000000  0.000000   \n",
       "Professional Course  40.207477  278.816822  2.512150  958.211215  0.194393   \n",
       "University Degree    39.017405  247.707278  2.583070  947.900316  0.207278   \n",
       "Unknown              42.826347  267.281437  2.538922  939.700599  0.263473   \n",
       "\n",
       "                     emp.var.rate  cons.price.idx  cons.conf.idx  euribor3m  \\\n",
       "education                                                                     \n",
       "Basic                    0.237368       93.658600     -41.120552   3.775701   \n",
       "High School             -0.002497       93.564314     -40.995765   3.511732   \n",
       "Illiterate              -2.900000       92.201000     -31.400000   0.834000   \n",
       "Professional Course      0.163925       93.599630     -40.127664   3.701426   \n",
       "University Degree       -0.009731       93.499109     -39.830063   3.547132   \n",
       "Unknown                 -0.074251       93.637455     -39.487425   3.410174   \n",
       "\n",
       "                     nr.employed         y  \n",
       "education                                   \n",
       "Basic                5174.133144  0.079610  \n",
       "High School          5163.212595  0.105320  \n",
       "Illiterate           5076.200000  0.000000  \n",
       "Professional Course  5167.595140  0.121495  \n",
       "University Degree    5163.023180  0.130538  \n",
       "Unknown              5151.260479  0.155689  "
      ]
     },
     "execution_count": 19,
     "metadata": {},
     "output_type": "execute_result"
    }
   ],
   "source": [
    "data.groupby(\"education\").mean()"
   ]
  },
  {
   "cell_type": "code",
   "execution_count": 20,
   "metadata": {},
   "outputs": [
    {
     "data": {
      "text/plain": [
       "Text(0, 0.5, 'Frecuencia de compra')"
      ]
     },
     "execution_count": 20,
     "metadata": {},
     "output_type": "execute_result"
    },
    {
     "data": {
      "image/png": "[encoded data removed]",
      "text/plain": [
       "<Figure size 432x288 with 1 Axes>"
      ]
     },
     "metadata": {
      "needs_background": "light"
     },
     "output_type": "display_data"
    }
   ],
   "source": [
    "%matplotlib inline\n",
    "pd.crosstab(data.education, data.y).plot(kind=\"bar\")\n",
    "plt.title(\"Frecuencia de compra en nivel de eduación\")\n",
    "plt.xlabel(\"Nivel de eduación\")\n",
    "plt.ylabel(\"Frecuencia de compra\")"
   ]
  },
  {
   "cell_type": "code",
   "execution_count": 21,
   "metadata": {},
   "outputs": [
    {
     "data": {
      "text/plain": [
       "Text(0, 0.5, 'Proporción de clientes')"
      ]
     },
     "execution_count": 21,
     "metadata": {},
     "output_type": "execute_result"
    },
    {
     "data": {
      "image/png": "[encoded data removed]",
      "text/plain": [
       "<Figure size 432x288 with 1 Axes>"
      ]
     },
     "metadata": {
      "needs_background": "light"
     },
     "output_type": "display_data"
    }
   ],
   "source": [
    "table=pd.crosstab(data.marital, data.y)\n",
    "table.div(table.sum(1).astype(float), axis=0).plot(kind=\"bar\", stacked=True)\n",
    "plt.title(\"Diagrama apilado, estado civil vs nivel de compras\")\n",
    "plt.xlabel(\"Estado civil\")\n",
    "plt.ylabel(\"Proporción de clientes\")"
   ]
  },
  {
   "cell_type": "code",
   "execution_count": 22,
   "metadata": {},
   "outputs": [
    {
     "data": {
      "text/plain": [
       "Text(0, 0.5, 'Frecuencia de compra')"
      ]
     },
     "execution_count": 22,
     "metadata": {},
     "output_type": "execute_result"
    },
    {
     "data": {
      "image/png": "[encoded data removed]",
      "text/plain": [
       "<Figure size 432x288 with 1 Axes>"
      ]
     },
     "metadata": {
      "needs_background": "light"
     },
     "output_type": "display_data"
    }
   ],
   "source": [
    "table = pd.crosstab(data.day_of_week, data.y)\n",
    "table.div(table.sum(1).astype(float), axis=0).plot(kind=\"bar\", stacked=True)\n",
    "plt.title(\"Frecuencia de compra en función de día de la semana\")\n",
    "plt.xlabel(\"Día de la semana\")\n",
    "plt.ylabel(\"Frecuencia de compra\")"
   ]
  },
  {
   "cell_type": "code",
   "execution_count": 23,
   "metadata": {},
   "outputs": [
    {
     "data": {
      "text/plain": [
       "Text(0, 0.5, 'Frecuencia de compra')"
      ]
     },
     "execution_count": 23,
     "metadata": {},
     "output_type": "execute_result"
    },
    {
     "data": {
      "image/png": "[encoded data removed]",
      "text/plain": [
       "<Figure size 432x288 with 1 Axes>"
      ]
     },
     "metadata": {
      "needs_background": "light"
     },
     "output_type": "display_data"
    }
   ],
   "source": [
    "table = pd.crosstab(data.month, data.y)\n",
    "table.div(table.sum(1).astype(float), axis=0).plot(kind=\"bar\", stacked=True)\n",
    "plt.title(\"Frecuencia de compra en función del mes\")\n",
    "plt.xlabel(\"Mes del año\")\n",
    "plt.ylabel(\"Frecuencia de compra\")"
   ]
  },
  {
   "cell_type": "code",
   "execution_count": 24,
   "metadata": {},
   "outputs": [
    {
     "data": {
      "text/plain": [
       "Text(0, 0.5, 'Frecuencia de compra')"
      ]
     },
     "execution_count": 24,
     "metadata": {},
     "output_type": "execute_result"
    },
    {
     "data": {
      "image/png": "[encoded data removed]",
      "text/plain": [
       "<Figure size 432x288 with 1 Axes>"
      ]
     },
     "metadata": {
      "needs_background": "light"
     },
     "output_type": "display_data"
    }
   ],
   "source": [
    "table.plot(kind=\"bar\")\n",
    "plt.title(\"Frecuencia de compra en función del mes\")\n",
    "plt.xlabel(\"Mes del año\")\n",
    "plt.ylabel(\"Frecuencia de compra\")"
   ]
  },
  {
   "cell_type": "code",
   "execution_count": 25,
   "metadata": {},
   "outputs": [
    {
     "data": {
      "text/plain": [
       "Text(0, 0.5, 'Frecuencia de compra')"
      ]
     },
     "execution_count": 25,
     "metadata": {},
     "output_type": "execute_result"
    },
    {
     "data": {
      "image/png": "[encoded data removed]",
      "text/plain": [
       "<Figure size 432x288 with 1 Axes>"
      ]
     },
     "metadata": {
      "needs_background": "light"
     },
     "output_type": "display_data"
    }
   ],
   "source": [
    "data.age.hist()\n",
    "plt.title(\"Frecuencia de compra en función de la edad\")\n",
    "plt.xlabel(\"Edad\")\n",
    "plt.ylabel(\"Frecuencia de compra\")"
   ]
  },
  {
   "cell_type": "code",
   "execution_count": 26,
   "metadata": {},
   "outputs": [
    {
     "data": {
      "text/plain": [
       "<matplotlib.axes._subplots.AxesSubplot at 0x1c4a6af2448>"
      ]
     },
     "execution_count": 26,
     "metadata": {},
     "output_type": "execute_result"
    },
    {
     "data": {
      "image/png": "[encoded data removed]",
      "text/plain": [
       "<Figure size 432x288 with 1 Axes>"
      ]
     },
     "metadata": {
      "needs_background": "light"
     },
     "output_type": "display_data"
    }
   ],
   "source": [
    "pd.crosstab(data.age, data.y).plot(kind=\"bar\")"
   ]
  },
  {
   "cell_type": "code",
   "execution_count": 27,
   "metadata": {},
   "outputs": [
    {
     "data": {
      "text/plain": [
       "<matplotlib.axes._subplots.AxesSubplot at 0x1c4a6d8f908>"
      ]
     },
     "execution_count": 27,
     "metadata": {},
     "output_type": "execute_result"
    },
    {
     "data": {
      "image/png": "[encoded data removed]",
      "text/plain": [
       "<Figure size 432x288 with 1 Axes>"
      ]
     },
     "metadata": {
      "needs_background": "light"
     },
     "output_type": "display_data"
    }
   ],
   "source": [
    "pd.crosstab(data.poutcome, data.y).plot(kind=\"bar\")"
   ]
  },
  {
   "cell_type": "markdown",
   "metadata": {},
   "source": [
    "## Seleccion de variables categoricas\n",
    "### Conversión de variables categoricas a dummies"
   ]
  },
  {
   "cell_type": "code",
   "execution_count": 28,
   "metadata": {},
   "outputs": [
    {
     "name": "stdout",
     "output_type": "stream",
     "text": [
      "      job_admin.  job_blue-collar  job_entrepreneur  job_housemaid  \\\n",
      "0              0                1                 0              0   \n",
      "1              0                0                 0              0   \n",
      "2              0                0                 0              0   \n",
      "3              0                0                 0              0   \n",
      "4              1                0                 0              0   \n",
      "...          ...              ...               ...            ...   \n",
      "4114           1                0                 0              0   \n",
      "4115           1                0                 0              0   \n",
      "4116           0                0                 0              0   \n",
      "4117           1                0                 0              0   \n",
      "4118           0                0                 0              0   \n",
      "\n",
      "      job_management  job_retired  job_self-employed  job_services  \\\n",
      "0                  0            0                  0             0   \n",
      "1                  0            0                  0             1   \n",
      "2                  0            0                  0             1   \n",
      "3                  0            0                  0             1   \n",
      "4                  0            0                  0             0   \n",
      "...              ...          ...                ...           ...   \n",
      "4114               0            0                  0             0   \n",
      "4115               0            0                  0             0   \n",
      "4116               0            0                  0             0   \n",
      "4117               0            0                  0             0   \n",
      "4118               1            0                  0             0   \n",
      "\n",
      "      job_student  job_technician  job_unemployed  job_unknown  \n",
      "0               0               0               0            0  \n",
      "1               0               0               0            0  \n",
      "2               0               0               0            0  \n",
      "3               0               0               0            0  \n",
      "4               0               0               0            0  \n",
      "...           ...             ...             ...          ...  \n",
      "4114            0               0               0            0  \n",
      "4115            0               0               0            0  \n",
      "4116            1               0               0            0  \n",
      "4117            0               0               0            0  \n",
      "4118            0               0               0            0  \n",
      "\n",
      "[4119 rows x 12 columns]\n",
      "      marital_divorced  marital_married  marital_single  marital_unknown\n",
      "0                    0                1               0                0\n",
      "1                    0                0               1                0\n",
      "2                    0                1               0                0\n",
      "3                    0                1               0                0\n",
      "4                    0                1               0                0\n",
      "...                ...              ...             ...              ...\n",
      "4114                 0                1               0                0\n",
      "4115                 0                1               0                0\n",
      "4116                 0                0               1                0\n",
      "4117                 0                1               0                0\n",
      "4118                 0                0               1                0\n",
      "\n",
      "[4119 rows x 4 columns]\n",
      "      education_Basic  education_High School  education_Illiterate  \\\n",
      "0                   1                      0                     0   \n",
      "1                   0                      1                     0   \n",
      "2                   0                      1                     0   \n",
      "3                   1                      0                     0   \n",
      "4                   0                      0                     0   \n",
      "...               ...                    ...                   ...   \n",
      "4114                1                      0                     0   \n",
      "4115                0                      1                     0   \n",
      "4116                0                      1                     0   \n",
      "4117                0                      1                     0   \n",
      "4118                0                      1                     0   \n",
      "\n",
      "      education_Professional Course  education_University Degree  \\\n",
      "0                                 0                            0   \n",
      "1                                 0                            0   \n",
      "2                                 0                            0   \n",
      "3                                 0                            0   \n",
      "4                                 0                            1   \n",
      "...                             ...                          ...   \n",
      "4114                              0                            0   \n",
      "4115                              0                            0   \n",
      "4116                              0                            0   \n",
      "4117                              0                            0   \n",
      "4118                              0                            0   \n",
      "\n",
      "      education_Unknown  \n",
      "0                     0  \n",
      "1                     0  \n",
      "2                     0  \n",
      "3                     0  \n",
      "4                     0  \n",
      "...                 ...  \n",
      "4114                  0  \n",
      "4115                  0  \n",
      "4116                  0  \n",
      "4117                  0  \n",
      "4118                  0  \n",
      "\n",
      "[4119 rows x 6 columns]\n",
      "      housing_no  housing_unknown  housing_yes\n",
      "0              0                0            1\n",
      "1              1                0            0\n",
      "2              0                0            1\n",
      "3              0                1            0\n",
      "4              0                0            1\n",
      "...          ...              ...          ...\n",
      "4114           0                0            1\n",
      "4115           0                0            1\n",
      "4116           1                0            0\n",
      "4117           1                0            0\n",
      "4118           0                0            1\n",
      "\n",
      "[4119 rows x 3 columns]\n",
      "      loan_no  loan_unknown  loan_yes\n",
      "0           1             0         0\n",
      "1           1             0         0\n",
      "2           1             0         0\n",
      "3           0             1         0\n",
      "4           1             0         0\n",
      "...       ...           ...       ...\n",
      "4114        0             0         1\n",
      "4115        1             0         0\n",
      "4116        1             0         0\n",
      "4117        1             0         0\n",
      "4118        1             0         0\n",
      "\n",
      "[4119 rows x 3 columns]\n",
      "      contact_cellular  contact_telephone\n",
      "0                    1                  0\n",
      "1                    0                  1\n",
      "2                    0                  1\n",
      "3                    0                  1\n",
      "4                    1                  0\n",
      "...                ...                ...\n",
      "4114                 1                  0\n",
      "4115                 0                  1\n",
      "4116                 1                  0\n",
      "4117                 1                  0\n",
      "4118                 1                  0\n",
      "\n",
      "[4119 rows x 2 columns]\n",
      "      month_apr  month_aug  month_dec  month_jul  month_jun  month_mar  \\\n",
      "0             0          0          0          0          0          0   \n",
      "1             0          0          0          0          0          0   \n",
      "2             0          0          0          0          1          0   \n",
      "3             0          0          0          0          1          0   \n",
      "4             0          0          0          0          0          0   \n",
      "...         ...        ...        ...        ...        ...        ...   \n",
      "4114          0          0          0          1          0          0   \n",
      "4115          0          0          0          1          0          0   \n",
      "4116          0          0          0          0          0          0   \n",
      "4117          0          1          0          0          0          0   \n",
      "4118          0          0          0          0          0          0   \n",
      "\n",
      "      month_may  month_nov  month_oct  month_sep  \n",
      "0             1          0          0          0  \n",
      "1             1          0          0          0  \n",
      "2             0          0          0          0  \n",
      "3             0          0          0          0  \n",
      "4             0          1          0          0  \n",
      "...         ...        ...        ...        ...  \n",
      "4114          0          0          0          0  \n",
      "4115          0          0          0          0  \n",
      "4116          1          0          0          0  \n",
      "4117          0          0          0          0  \n",
      "4118          0          1          0          0  \n",
      "\n",
      "[4119 rows x 10 columns]\n",
      "      day_of_week_fri  day_of_week_mon  day_of_week_thu  day_of_week_tue  \\\n",
      "0                   1                0                0                0   \n",
      "1                   1                0                0                0   \n",
      "2                   0                0                0                0   \n",
      "3                   1                0                0                0   \n",
      "4                   0                1                0                0   \n",
      "...               ...              ...              ...              ...   \n",
      "4114                0                0                1                0   \n",
      "4115                1                0                0                0   \n",
      "4116                0                1                0                0   \n",
      "4117                1                0                0                0   \n",
      "4118                0                0                0                0   \n",
      "\n",
      "      day_of_week_wed  \n",
      "0                   0  \n",
      "1                   0  \n",
      "2                   1  \n",
      "3                   0  \n",
      "4                   0  \n",
      "...               ...  \n",
      "4114                0  \n",
      "4115                0  \n",
      "4116                0  \n",
      "4117                0  \n",
      "4118                1  \n",
      "\n",
      "[4119 rows x 5 columns]\n",
      "      poutcome_failure  poutcome_nonexistent  poutcome_success\n",
      "0                    0                     1                 0\n",
      "1                    0                     1                 0\n",
      "2                    0                     1                 0\n",
      "3                    0                     1                 0\n",
      "4                    0                     1                 0\n",
      "...                ...                   ...               ...\n",
      "4114                 0                     1                 0\n",
      "4115                 0                     1                 0\n",
      "4116                 1                     0                 0\n",
      "4117                 0                     1                 0\n",
      "4118                 0                     1                 0\n",
      "\n",
      "[4119 rows x 3 columns]\n"
     ]
    }
   ],
   "source": [
    "categories = [\"job\", \"marital\", \"education\", \"housing\", \"loan\", \"contact\",\n",
    "              \"month\", \"day_of_week\", \"poutcome\"]\n",
    "for category in categories: \n",
    "    cat_list = \"cat_\" + category\n",
    "    cat_dummies = pd.get_dummies(data[category], prefix=category)\n",
    "    print(cat_dummies)\n",
    "    data_new = data.join(cat_dummies)\n",
    "    data = data_new"
   ]
  },
  {
   "cell_type": "code",
   "execution_count": 29,
   "metadata": {},
   "outputs": [],
   "source": [
    "data_vars=data.columns.values.tolist()"
   ]
  },
  {
   "cell_type": "code",
   "execution_count": 30,
   "metadata": {},
   "outputs": [],
   "source": [
    "to_keep = [v for v in data_vars if v not in categories]\n",
    "to_keep = [v for v in to_keep if v not in [\"default\"]]"
   ]
  },
  {
   "cell_type": "code",
   "execution_count": 36,
   "metadata": {},
   "outputs": [
    {
     "data": {
      "text/plain": [
       "array(['age', 'duration', 'campaign', 'pdays', 'previous', 'emp.var.rate',\n",
       "       'cons.price.idx', 'cons.conf.idx', 'euribor3m', 'nr.employed', 'y',\n",
       "       'job_admin.', 'job_blue-collar', 'job_entrepreneur',\n",
       "       'job_housemaid', 'job_management', 'job_retired',\n",
       "       'job_self-employed', 'job_services', 'job_student',\n",
       "       'job_technician', 'job_unemployed', 'job_unknown',\n",
       "       'marital_divorced', 'marital_married', 'marital_single',\n",
       "       'marital_unknown', 'education_Basic', 'education_High School',\n",
       "       'education_Illiterate', 'education_Professional Course',\n",
       "       'education_University Degree', 'education_Unknown', 'housing_no',\n",
       "       'housing_unknown', 'housing_yes', 'loan_no', 'loan_unknown',\n",
       "       'loan_yes', 'contact_cellular', 'contact_telephone', 'month_apr',\n",
       "       'month_aug', 'month_dec', 'month_jul', 'month_jun', 'month_mar',\n",
       "       'month_may', 'month_nov', 'month_oct', 'month_sep',\n",
       "       'day_of_week_fri', 'day_of_week_mon', 'day_of_week_thu',\n",
       "       'day_of_week_tue', 'day_of_week_wed', 'poutcome_failure',\n",
       "       'poutcome_nonexistent', 'poutcome_success'], dtype=object)"
      ]
     },
     "execution_count": 36,
     "metadata": {},
     "output_type": "execute_result"
    }
   ],
   "source": [
    "bank_data = data[to_keep]\n",
    "bank_data.columns.values"
   ]
  },
  {
   "cell_type": "code",
   "execution_count": 37,
   "metadata": {},
   "outputs": [],
   "source": [
    "bank_data_vars = bank_data.columns.values.tolist()\n",
    "Y = [\"y\"]\n",
    "X = [v for v in bank_data_vars if v not in Y]"
   ]
  },
  {
   "cell_type": "markdown",
   "metadata": {},
   "source": [
    "## Selección de rasgos para el modelo"
   ]
  },
  {
   "cell_type": "code",
   "execution_count": 40,
   "metadata": {},
   "outputs": [],
   "source": [
    "n=12\n",
    "from sklearn import datasets\n",
    "from sklearn.feature_selection import RFE\n",
    "from sklearn.linear_model import LogisticRegression"
   ]
  },
  {
   "cell_type": "code",
   "execution_count": 44,
   "metadata": {},
   "outputs": [],
   "source": [
    "lr = LogisticRegression(solver='lbfgs', max_iter=5000)\n",
    "rfe = RFE(lr, n)\n",
    "rfe = rfe.fit(bank_data[X], bank_data[Y].values.ravel())"
   ]
  },
  {
   "cell_type": "code",
   "execution_count": 45,
   "metadata": {},
   "outputs": [],
   "source": [
    "#bank_data[\"job_blue-collar\"] = bank_data[\"job_blue-collar\"].fillna(bank_data[\"job_blue-collar\"].mean())"
   ]
  },
  {
   "cell_type": "code",
   "execution_count": 46,
   "metadata": {},
   "outputs": [
    {
     "name": "stdout",
     "output_type": "stream",
     "text": [
      "[False False False False False  True  True False False False False False\n",
      " False False False  True False False False False  True False False False\n",
      " False False False False False False False False False False False False\n",
      " False False False  True  True False  True False False  True  True  True\n",
      " False False False False False False False  True False  True]\n"
     ]
    }
   ],
   "source": [
    "print(rfe.support_)"
   ]
  },
  {
   "cell_type": "code",
   "execution_count": 47,
   "metadata": {},
   "outputs": [
    {
     "name": "stdout",
     "output_type": "stream",
     "text": [
      "[35 45 23 47  5  1  1 29 42 43  3 12 10 38 11  1  6 14 34  2  1 17 32 19\n",
      " 20 46 40 39 26 24 25  8 37  7 15 21 13 41  4  1  1 28  1 16 30  1  1  1\n",
      " 22 27 36 31 44 33  9  1 18  1]\n"
     ]
    }
   ],
   "source": [
    "print(rfe.ranking_)"
   ]
  },
  {
   "cell_type": "code",
   "execution_count": 48,
   "metadata": {},
   "outputs": [],
   "source": [
    "z = zip(bank_data_vars,rfe.support_, rfe.ranking_)"
   ]
  },
  {
   "cell_type": "code",
   "execution_count": 49,
   "metadata": {},
   "outputs": [
    {
     "data": {
      "text/plain": [
       "[('age', False, 35),\n",
       " ('duration', False, 45),\n",
       " ('campaign', False, 23),\n",
       " ('pdays', False, 47),\n",
       " ('previous', False, 5),\n",
       " ('emp.var.rate', True, 1),\n",
       " ('cons.price.idx', True, 1),\n",
       " ('cons.conf.idx', False, 29),\n",
       " ('euribor3m', False, 42),\n",
       " ('nr.employed', False, 43),\n",
       " ('y', False, 3),\n",
       " ('job_admin.', False, 12),\n",
       " ('job_blue-collar', False, 10),\n",
       " ('job_entrepreneur', False, 38),\n",
       " ('job_housemaid', False, 11),\n",
       " ('job_management', True, 1),\n",
       " ('job_retired', False, 6),\n",
       " ('job_self-employed', False, 14),\n",
       " ('job_services', False, 34),\n",
       " ('job_student', False, 2),\n",
       " ('job_technician', True, 1),\n",
       " ('job_unemployed', False, 17),\n",
       " ('job_unknown', False, 32),\n",
       " ('marital_divorced', False, 19),\n",
       " ('marital_married', False, 20),\n",
       " ('marital_single', False, 46),\n",
       " ('marital_unknown', False, 40),\n",
       " ('education_Basic', False, 39),\n",
       " ('education_High School', False, 26),\n",
       " ('education_Illiterate', False, 24),\n",
       " ('education_Professional Course', False, 25),\n",
       " ('education_University Degree', False, 8),\n",
       " ('education_Unknown', False, 37),\n",
       " ('housing_no', False, 7),\n",
       " ('housing_unknown', False, 15),\n",
       " ('housing_yes', False, 21),\n",
       " ('loan_no', False, 13),\n",
       " ('loan_unknown', False, 41),\n",
       " ('loan_yes', False, 4),\n",
       " ('contact_cellular', True, 1),\n",
       " ('contact_telephone', True, 1),\n",
       " ('month_apr', False, 28),\n",
       " ('month_aug', True, 1),\n",
       " ('month_dec', False, 16),\n",
       " ('month_jul', False, 30),\n",
       " ('month_jun', True, 1),\n",
       " ('month_mar', True, 1),\n",
       " ('month_may', True, 1),\n",
       " ('month_nov', False, 22),\n",
       " ('month_oct', False, 27),\n",
       " ('month_sep', False, 36),\n",
       " ('day_of_week_fri', False, 31),\n",
       " ('day_of_week_mon', False, 44),\n",
       " ('day_of_week_thu', False, 33),\n",
       " ('day_of_week_tue', False, 9),\n",
       " ('day_of_week_wed', True, 1),\n",
       " ('poutcome_failure', False, 18),\n",
       " ('poutcome_nonexistent', True, 1)]"
      ]
     },
     "execution_count": 49,
     "metadata": {},
     "output_type": "execute_result"
    }
   ],
   "source": [
    "list(z)"
   ]
  },
  {
   "cell_type": "code",
   "execution_count": 50,
   "metadata": {},
   "outputs": [
    {
     "name": "stdout",
     "output_type": "stream",
     "text": [
      "emp.var.rate True 1\n",
      "cons.price.idx True 1\n",
      "job_management True 1\n",
      "job_technician True 1\n",
      "contact_cellular True 1\n",
      "contact_telephone True 1\n",
      "month_aug True 1\n",
      "month_jun True 1\n",
      "month_mar True 1\n",
      "month_may True 1\n",
      "day_of_week_wed True 1\n",
      "poutcome_nonexistent True 1\n"
     ]
    }
   ],
   "source": [
    "j=0\n",
    "for i in bank_data_vars:\n",
    "    if(j<len(rfe.ranking_)): \n",
    "        if rfe.ranking_[j]==1:\n",
    "            print(i,rfe.support_[j], rfe.ranking_[j])\n",
    "        j=j+1"
   ]
  },
  {
   "cell_type": "code",
   "execution_count": 51,
   "metadata": {},
   "outputs": [],
   "source": [
    "cols=[\"day_of_week_wed\", \"poutcome_nonexistent\", \"month_jun\", \"month_mar\", \"month_may\", \"emp.var.rate\",\n",
    "      \"cons.price.idx\", \"job_management\", \"job_technician\",\"contact_cellular\", \"contact_telephone\"]"
   ]
  },
  {
   "cell_type": "code",
   "execution_count": 52,
   "metadata": {},
   "outputs": [],
   "source": [
    "X = bank_data[cols]\n",
    "Y = bank_data[\"y\"]"
   ]
  },
  {
   "cell_type": "markdown",
   "metadata": {},
   "source": [
    "## Implementación del modelo en Python con statsmodel.api"
   ]
  },
  {
   "cell_type": "code",
   "execution_count": 55,
   "metadata": {},
   "outputs": [],
   "source": [
    "import statsmodels.api as sm"
   ]
  },
  {
   "cell_type": "code",
   "execution_count": 56,
   "metadata": {},
   "outputs": [],
   "source": [
    "logit_model = sm.Logit(Y,X)"
   ]
  },
  {
   "cell_type": "code",
   "execution_count": 57,
   "metadata": {},
   "outputs": [
    {
     "name": "stdout",
     "output_type": "stream",
     "text": [
      "Optimization terminated successfully.\n",
      "         Current function value: 0.282781\n",
      "         Iterations 7\n"
     ]
    }
   ],
   "source": [
    "result = logit_model.fit()"
   ]
  },
  {
   "cell_type": "code",
   "execution_count": 58,
   "metadata": {},
   "outputs": [
    {
     "data": {
      "text/html": [
       "<table class=\"simpletable\">\n",
       "<tr>\n",
       "        <td>Model:</td>              <td>Logit</td>      <td>Pseudo R-squared:</td>    <td>0.181</td>   \n",
       "</tr>\n",
       "<tr>\n",
       "  <td>Dependent Variable:</td>         <td>y</td>              <td>AIC:</td>         <td>2351.5519</td> \n",
       "</tr>\n",
       "<tr>\n",
       "         <td>Date:</td>        <td>2021-06-30 15:03</td>       <td>BIC:</td>         <td>2421.1089</td> \n",
       "</tr>\n",
       "<tr>\n",
       "   <td>No. Observations:</td>        <td>4119</td>        <td>Log-Likelihood:</td>    <td>-1164.8</td>  \n",
       "</tr>\n",
       "<tr>\n",
       "       <td>Df Model:</td>             <td>10</td>            <td>LL-Null:</td>        <td>-1422.9</td>  \n",
       "</tr>\n",
       "<tr>\n",
       "     <td>Df Residuals:</td>          <td>4108</td>         <td>LLR p-value:</td>    <td>1.4547e-104</td>\n",
       "</tr>\n",
       "<tr>\n",
       "      <td>Converged:</td>           <td>1.0000</td>           <td>Scale:</td>         <td>1.0000</td>   \n",
       "</tr>\n",
       "<tr>\n",
       "    <td>No. Iterations:</td>        <td>7.0000</td>              <td></td>               <td></td>      \n",
       "</tr>\n",
       "</table>\n",
       "<table class=\"simpletable\">\n",
       "<tr>\n",
       "            <td></td>             <th>Coef.</th>   <th>Std.Err.</th>     <th>z</th>     <th>P>|z|</th>  <th>[0.025</th>    <th>0.975]</th> \n",
       "</tr>\n",
       "<tr>\n",
       "  <th>day_of_week_wed</th>       <td>0.1236</td>    <td>0.1406</td>   <td>0.8794</td>  <td>0.3792</td>  <td>-0.1519</td>   <td>0.3992</td> \n",
       "</tr>\n",
       "<tr>\n",
       "  <th>poutcome_nonexistent</th>  <td>-0.1974</td>   <td>0.1362</td>   <td>-1.4495</td> <td>0.1472</td>  <td>-0.4644</td>   <td>0.0695</td> \n",
       "</tr>\n",
       "<tr>\n",
       "  <th>month_jun</th>             <td>0.0566</td>    <td>0.1819</td>   <td>0.3111</td>  <td>0.7558</td>  <td>-0.2999</td>   <td>0.4131</td> \n",
       "</tr>\n",
       "<tr>\n",
       "  <th>month_mar</th>             <td>1.5450</td>    <td>0.3092</td>   <td>4.9972</td>  <td>0.0000</td>  <td>0.9390</td>    <td>2.1509</td> \n",
       "</tr>\n",
       "<tr>\n",
       "  <th>month_may</th>             <td>-0.6532</td>   <td>0.1384</td>   <td>-4.7203</td> <td>0.0000</td>  <td>-0.9244</td>   <td>-0.3820</td>\n",
       "</tr>\n",
       "<tr>\n",
       "  <th>emp.var.rate</th>          <td>-0.8016</td>   <td>0.0528</td>  <td>-15.1864</td> <td>0.0000</td>  <td>-0.9051</td>   <td>-0.6982</td>\n",
       "</tr>\n",
       "<tr>\n",
       "  <th>cons.price.idx</th>        <td>1.2153</td>    <td>0.1287</td>   <td>9.4458</td>  <td>0.0000</td>  <td>0.9631</td>    <td>1.4675</td> \n",
       "</tr>\n",
       "<tr>\n",
       "  <th>job_management</th>        <td>-0.1943</td>   <td>0.2143</td>   <td>-0.9066</td> <td>0.3646</td>  <td>-0.6142</td>   <td>0.2257</td> \n",
       "</tr>\n",
       "<tr>\n",
       "  <th>job_technician</th>        <td>0.1509</td>    <td>0.1466</td>   <td>1.0291</td>  <td>0.3034</td>  <td>-0.1364</td>   <td>0.4381</td> \n",
       "</tr>\n",
       "<tr>\n",
       "  <th>contact_cellular</th>     <td>-115.6512</td>  <td>12.0721</td>  <td>-9.5800</td> <td>0.0000</td> <td>-139.3120</td> <td>-91.9903</td>\n",
       "</tr>\n",
       "<tr>\n",
       "  <th>contact_telephone</th>    <td>-116.2482</td>  <td>12.1047</td>  <td>-9.6036</td> <td>0.0000</td> <td>-139.9729</td> <td>-92.5234</td>\n",
       "</tr>\n",
       "</table>"
      ],
      "text/plain": [
       "<class 'statsmodels.iolib.summary2.Summary'>\n",
       "\"\"\"\n",
       "                              Results: Logit\n",
       "==========================================================================\n",
       "Model:                  Logit              Pseudo R-squared:   0.181      \n",
       "Dependent Variable:     y                  AIC:                2351.5519  \n",
       "Date:                   2021-06-30 15:03   BIC:                2421.1089  \n",
       "No. Observations:       4119               Log-Likelihood:     -1164.8    \n",
       "Df Model:               10                 LL-Null:            -1422.9    \n",
       "Df Residuals:           4108               LLR p-value:        1.4547e-104\n",
       "Converged:              1.0000             Scale:              1.0000     \n",
       "No. Iterations:         7.0000                                            \n",
       "--------------------------------------------------------------------------\n",
       "                       Coef.   Std.Err.    z     P>|z|    [0.025   0.975] \n",
       "--------------------------------------------------------------------------\n",
       "day_of_week_wed         0.1236   0.1406   0.8794 0.3792   -0.1519   0.3992\n",
       "poutcome_nonexistent   -0.1974   0.1362  -1.4495 0.1472   -0.4644   0.0695\n",
       "month_jun               0.0566   0.1819   0.3111 0.7558   -0.2999   0.4131\n",
       "month_mar               1.5450   0.3092   4.9972 0.0000    0.9390   2.1509\n",
       "month_may              -0.6532   0.1384  -4.7203 0.0000   -0.9244  -0.3820\n",
       "emp.var.rate           -0.8016   0.0528 -15.1864 0.0000   -0.9051  -0.6982\n",
       "cons.price.idx          1.2153   0.1287   9.4458 0.0000    0.9631   1.4675\n",
       "job_management         -0.1943   0.2143  -0.9066 0.3646   -0.6142   0.2257\n",
       "job_technician          0.1509   0.1466   1.0291 0.3034   -0.1364   0.4381\n",
       "contact_cellular     -115.6512  12.0721  -9.5800 0.0000 -139.3120 -91.9903\n",
       "contact_telephone    -116.2482  12.1047  -9.6036 0.0000 -139.9729 -92.5234\n",
       "==========================================================================\n",
       "\n",
       "\"\"\""
      ]
     },
     "execution_count": 58,
     "metadata": {},
     "output_type": "execute_result"
    }
   ],
   "source": [
    "result.summary2()"
   ]
  },
  {
   "cell_type": "markdown",
   "metadata": {},
   "source": [
    "## Implementación con sckit-learn"
   ]
  },
  {
   "cell_type": "code",
   "execution_count": 59,
   "metadata": {},
   "outputs": [],
   "source": [
    "from sklearn import linear_model"
   ]
  },
  {
   "cell_type": "code",
   "execution_count": 60,
   "metadata": {},
   "outputs": [
    {
     "data": {
      "text/plain": [
       "LogisticRegression(C=1.0, class_weight=None, dual=False, fit_intercept=True,\n",
       "                   intercept_scaling=1, l1_ratio=None, max_iter=1000,\n",
       "                   multi_class='auto', n_jobs=None, penalty='l2',\n",
       "                   random_state=None, solver='lbfgs', tol=0.0001, verbose=0,\n",
       "                   warm_start=False)"
      ]
     },
     "execution_count": 60,
     "metadata": {},
     "output_type": "execute_result"
    }
   ],
   "source": [
    "logit_model = linear_model.LogisticRegression(solver='lbfgs', max_iter=1000)\n",
    "logit_model.fit(X,Y)"
   ]
  },
  {
   "cell_type": "code",
   "execution_count": 61,
   "metadata": {},
   "outputs": [
    {
     "data": {
      "text/plain": [
       "0.8929351784413693"
      ]
     },
     "execution_count": 61,
     "metadata": {},
     "output_type": "execute_result"
    }
   ],
   "source": [
    "logit_model.score(X,Y)"
   ]
  },
  {
   "cell_type": "code",
   "execution_count": 62,
   "metadata": {},
   "outputs": [
    {
     "data": {
      "text/plain": [
       "0.8905074047098811"
      ]
     },
     "execution_count": 62,
     "metadata": {},
     "output_type": "execute_result"
    }
   ],
   "source": [
    "1-Y.mean()"
   ]
  },
  {
   "cell_type": "code",
   "execution_count": 63,
   "metadata": {},
   "outputs": [
    {
     "data": {
      "text/html": [
       "<div>\n",
       "<style scoped>\n",
       "    .dataframe tbody tr th:only-of-type {\n",
       "        vertical-align: middle;\n",
       "    }\n",
       "\n",
       "    .dataframe tbody tr th {\n",
       "        vertical-align: top;\n",
       "    }\n",
       "\n",
       "    .dataframe thead th {\n",
       "        text-align: right;\n",
       "    }\n",
       "</style>\n",
       "<table border=\"1\" class=\"dataframe\">\n",
       "  <thead>\n",
       "    <tr style=\"text-align: right;\">\n",
       "      <th></th>\n",
       "      <th>0</th>\n",
       "      <th>1</th>\n",
       "    </tr>\n",
       "  </thead>\n",
       "  <tbody>\n",
       "    <tr>\n",
       "      <th>0</th>\n",
       "      <td>day_of_week_wed</td>\n",
       "      <td>[0.1182295520367761]</td>\n",
       "    </tr>\n",
       "    <tr>\n",
       "      <th>1</th>\n",
       "      <td>poutcome_nonexistent</td>\n",
       "      <td>[-0.20274661225621893]</td>\n",
       "    </tr>\n",
       "    <tr>\n",
       "      <th>2</th>\n",
       "      <td>month_jun</td>\n",
       "      <td>[0.05487521476646771]</td>\n",
       "    </tr>\n",
       "    <tr>\n",
       "      <th>3</th>\n",
       "      <td>month_mar</td>\n",
       "      <td>[1.4093303439091767]</td>\n",
       "    </tr>\n",
       "    <tr>\n",
       "      <th>4</th>\n",
       "      <td>month_may</td>\n",
       "      <td>[-0.6596372613519477]</td>\n",
       "    </tr>\n",
       "    <tr>\n",
       "      <th>5</th>\n",
       "      <td>emp.var.rate</td>\n",
       "      <td>[-0.7952921732552387]</td>\n",
       "    </tr>\n",
       "    <tr>\n",
       "      <th>6</th>\n",
       "      <td>cons.price.idx</td>\n",
       "      <td>[1.187074911505814]</td>\n",
       "    </tr>\n",
       "    <tr>\n",
       "      <th>7</th>\n",
       "      <td>job_management</td>\n",
       "      <td>[-0.18601492030907807]</td>\n",
       "    </tr>\n",
       "    <tr>\n",
       "      <th>8</th>\n",
       "      <td>job_technician</td>\n",
       "      <td>[0.15128278685839508]</td>\n",
       "    </tr>\n",
       "    <tr>\n",
       "      <th>9</th>\n",
       "      <td>contact_cellular</td>\n",
       "      <td>[0.2924430319020604]</td>\n",
       "    </tr>\n",
       "    <tr>\n",
       "      <th>10</th>\n",
       "      <td>contact_telephone</td>\n",
       "      <td>[-0.28914487010498974]</td>\n",
       "    </tr>\n",
       "  </tbody>\n",
       "</table>\n",
       "</div>"
      ],
      "text/plain": [
       "                       0                       1\n",
       "0        day_of_week_wed    [0.1182295520367761]\n",
       "1   poutcome_nonexistent  [-0.20274661225621893]\n",
       "2              month_jun   [0.05487521476646771]\n",
       "3              month_mar    [1.4093303439091767]\n",
       "4              month_may   [-0.6596372613519477]\n",
       "5           emp.var.rate   [-0.7952921732552387]\n",
       "6         cons.price.idx     [1.187074911505814]\n",
       "7         job_management  [-0.18601492030907807]\n",
       "8         job_technician   [0.15128278685839508]\n",
       "9       contact_cellular    [0.2924430319020604]\n",
       "10     contact_telephone  [-0.28914487010498974]"
      ]
     },
     "execution_count": 63,
     "metadata": {},
     "output_type": "execute_result"
    }
   ],
   "source": [
    "pd.DataFrame(list(zip(X.columns, np.transpose(logit_model.coef_))))"
   ]
  },
  {
   "cell_type": "markdown",
   "metadata": {},
   "source": [
    "## Validación del conjunto de datos"
   ]
  },
  {
   "cell_type": "code",
   "execution_count": 64,
   "metadata": {},
   "outputs": [],
   "source": [
    "from sklearn.model_selection import train_test_split"
   ]
  },
  {
   "cell_type": "code",
   "execution_count": 65,
   "metadata": {},
   "outputs": [],
   "source": [
    "X_train, X_test, Y_train, Y_test = train_test_split(X,Y,test_size=0.3, random_state=0)"
   ]
  },
  {
   "cell_type": "code",
   "execution_count": 66,
   "metadata": {},
   "outputs": [
    {
     "data": {
      "text/plain": [
       "LogisticRegression(C=1.0, class_weight=None, dual=False, fit_intercept=True,\n",
       "                   intercept_scaling=1, l1_ratio=None, max_iter=1000,\n",
       "                   multi_class='auto', n_jobs=None, penalty='l2',\n",
       "                   random_state=None, solver='lbfgs', tol=0.0001, verbose=0,\n",
       "                   warm_start=False)"
      ]
     },
     "execution_count": 66,
     "metadata": {},
     "output_type": "execute_result"
    }
   ],
   "source": [
    "lr = linear_model.LogisticRegression(solver='lbfgs', max_iter=1000)\n",
    "lr.fit(X_train, Y_train)"
   ]
  },
  {
   "cell_type": "code",
   "execution_count": 67,
   "metadata": {},
   "outputs": [],
   "source": [
    "from IPython.display import display, Math, Latex"
   ]
  },
  {
   "cell_type": "code",
   "execution_count": 68,
   "metadata": {},
   "outputs": [
    {
     "data": {
      "text/latex": [
       "$\\displaystyle Y_p=\\begin{cases}0& si\\ p\\leq0.5\\\\1&si\\ p >0.5\\end{cases}$"
      ],
      "text/plain": [
       "<IPython.core.display.Math object>"
      ]
     },
     "metadata": {},
     "output_type": "display_data"
    }
   ],
   "source": [
    "display(Math(r'Y_p=\\begin{cases}0& si\\ p\\leq0.5\\\\1&si\\ p >0.5\\end{cases}'))"
   ]
  },
  {
   "cell_type": "code",
   "execution_count": 69,
   "metadata": {},
   "outputs": [],
   "source": [
    "probs = lr.predict_proba(X_test)"
   ]
  },
  {
   "cell_type": "code",
   "execution_count": 70,
   "metadata": {},
   "outputs": [
    {
     "data": {
      "text/plain": [
       "array([[0.94145055, 0.05854945],\n",
       "       [0.90546524, 0.09453476],\n",
       "       [0.94145055, 0.05854945],\n",
       "       ...,\n",
       "       [0.80170792, 0.19829208],\n",
       "       [0.97415485, 0.02584515],\n",
       "       [0.49703185, 0.50296815]])"
      ]
     },
     "execution_count": 70,
     "metadata": {},
     "output_type": "execute_result"
    }
   ],
   "source": [
    "probs"
   ]
  },
  {
   "cell_type": "code",
   "execution_count": 71,
   "metadata": {},
   "outputs": [
    {
     "data": {
      "text/plain": [
       "array([0, 0, 0, ..., 0, 0, 1])"
      ]
     },
     "execution_count": 71,
     "metadata": {},
     "output_type": "execute_result"
    }
   ],
   "source": [
    "prediction = lr.predict(X_test)\n",
    "prediction"
   ]
  },
  {
   "cell_type": "code",
   "execution_count": 72,
   "metadata": {},
   "outputs": [
    {
     "data": {
      "text/latex": [
       "$\\displaystyle \\varepsilon\\in (0,1), Y_p=\\begin{cases}0& si\\ p\\leq \\varepsilon\\\\1&si\\ p >\\varepsilon\\end{cases}$"
      ],
      "text/plain": [
       "<IPython.core.display.Math object>"
      ]
     },
     "metadata": {},
     "output_type": "display_data"
    }
   ],
   "source": [
    "display(Math(r'\\varepsilon\\in (0,1), Y_p=\\begin{cases}0& si\\ p\\leq \\varepsilon\\\\1&si\\ p >\\varepsilon\\end{cases}'))"
   ]
  },
  {
   "cell_type": "code",
   "execution_count": 73,
   "metadata": {},
   "outputs": [
    {
     "data": {
      "text/html": [
       "<div>\n",
       "<style scoped>\n",
       "    .dataframe tbody tr th:only-of-type {\n",
       "        vertical-align: middle;\n",
       "    }\n",
       "\n",
       "    .dataframe tbody tr th {\n",
       "        vertical-align: top;\n",
       "    }\n",
       "\n",
       "    .dataframe thead th {\n",
       "        text-align: right;\n",
       "    }\n",
       "</style>\n",
       "<table border=\"1\" class=\"dataframe\">\n",
       "  <thead>\n",
       "    <tr style=\"text-align: right;\">\n",
       "      <th></th>\n",
       "      <th>0</th>\n",
       "      <th>prediction</th>\n",
       "    </tr>\n",
       "  </thead>\n",
       "  <tbody>\n",
       "    <tr>\n",
       "      <th>0</th>\n",
       "      <td>0.058549</td>\n",
       "      <td>0</td>\n",
       "    </tr>\n",
       "    <tr>\n",
       "      <th>1</th>\n",
       "      <td>0.094535</td>\n",
       "      <td>0</td>\n",
       "    </tr>\n",
       "    <tr>\n",
       "      <th>2</th>\n",
       "      <td>0.058549</td>\n",
       "      <td>0</td>\n",
       "    </tr>\n",
       "    <tr>\n",
       "      <th>3</th>\n",
       "      <td>0.055829</td>\n",
       "      <td>0</td>\n",
       "    </tr>\n",
       "    <tr>\n",
       "      <th>4</th>\n",
       "      <td>0.085174</td>\n",
       "      <td>0</td>\n",
       "    </tr>\n",
       "  </tbody>\n",
       "</table>\n",
       "</div>"
      ],
      "text/plain": [
       "          0  prediction\n",
       "0  0.058549           0\n",
       "1  0.094535           0\n",
       "2  0.058549           0\n",
       "3  0.055829           0\n",
       "4  0.085174           0"
      ]
     },
     "execution_count": 73,
     "metadata": {},
     "output_type": "execute_result"
    }
   ],
   "source": [
    "prob = probs[:,1]\n",
    "prob_df = pd.DataFrame(prob)\n",
    "threshold = 0.1\n",
    "prob_df[\"prediction\"] = np.where(prob_df[0]>threshold, 1, 0)\n",
    "prob_df.head()"
   ]
  },
  {
   "cell_type": "code",
   "execution_count": 74,
   "metadata": {},
   "outputs": [
    {
     "data": {
      "text/html": [
       "<div>\n",
       "<style scoped>\n",
       "    .dataframe tbody tr th:only-of-type {\n",
       "        vertical-align: middle;\n",
       "    }\n",
       "\n",
       "    .dataframe tbody tr th {\n",
       "        vertical-align: top;\n",
       "    }\n",
       "\n",
       "    .dataframe thead th {\n",
       "        text-align: right;\n",
       "    }\n",
       "</style>\n",
       "<table border=\"1\" class=\"dataframe\">\n",
       "  <thead>\n",
       "    <tr style=\"text-align: right;\">\n",
       "      <th>col_0</th>\n",
       "      <th>cont</th>\n",
       "    </tr>\n",
       "    <tr>\n",
       "      <th>prediction</th>\n",
       "      <th></th>\n",
       "    </tr>\n",
       "  </thead>\n",
       "  <tbody>\n",
       "    <tr>\n",
       "      <th>0</th>\n",
       "      <td>862</td>\n",
       "    </tr>\n",
       "    <tr>\n",
       "      <th>1</th>\n",
       "      <td>374</td>\n",
       "    </tr>\n",
       "  </tbody>\n",
       "</table>\n",
       "</div>"
      ],
      "text/plain": [
       "col_0       cont\n",
       "prediction      \n",
       "0            862\n",
       "1            374"
      ]
     },
     "execution_count": 74,
     "metadata": {},
     "output_type": "execute_result"
    }
   ],
   "source": [
    "pd.crosstab(prob_df.prediction, columns=\"cont\")"
   ]
  },
  {
   "cell_type": "code",
   "execution_count": 75,
   "metadata": {},
   "outputs": [
    {
     "data": {
      "text/plain": [
       "30.258899676375407"
      ]
     },
     "execution_count": 75,
     "metadata": {},
     "output_type": "execute_result"
    }
   ],
   "source": [
    "374/len(prob_df)*100"
   ]
  },
  {
   "cell_type": "code",
   "execution_count": 76,
   "metadata": {},
   "outputs": [
    {
     "data": {
      "text/html": [
       "<div>\n",
       "<style scoped>\n",
       "    .dataframe tbody tr th:only-of-type {\n",
       "        vertical-align: middle;\n",
       "    }\n",
       "\n",
       "    .dataframe tbody tr th {\n",
       "        vertical-align: top;\n",
       "    }\n",
       "\n",
       "    .dataframe thead th {\n",
       "        text-align: right;\n",
       "    }\n",
       "</style>\n",
       "<table border=\"1\" class=\"dataframe\">\n",
       "  <thead>\n",
       "    <tr style=\"text-align: right;\">\n",
       "      <th>col_0</th>\n",
       "      <th>cont</th>\n",
       "    </tr>\n",
       "    <tr>\n",
       "      <th>prediction</th>\n",
       "      <th></th>\n",
       "    </tr>\n",
       "  </thead>\n",
       "  <tbody>\n",
       "    <tr>\n",
       "      <th>0</th>\n",
       "      <td>1022</td>\n",
       "    </tr>\n",
       "    <tr>\n",
       "      <th>1</th>\n",
       "      <td>214</td>\n",
       "    </tr>\n",
       "  </tbody>\n",
       "</table>\n",
       "</div>"
      ],
      "text/plain": [
       "col_0       cont\n",
       "prediction      \n",
       "0           1022\n",
       "1            214"
      ]
     },
     "execution_count": 76,
     "metadata": {},
     "output_type": "execute_result"
    }
   ],
   "source": [
    "threshold = 0.15\n",
    "prob_df[\"prediction\"] = np.where(prob_df[0]>threshold, 1, 0)\n",
    "pd.crosstab(prob_df.prediction, columns=\"cont\")"
   ]
  },
  {
   "cell_type": "code",
   "execution_count": 77,
   "metadata": {},
   "outputs": [
    {
     "data": {
      "text/html": [
       "<div>\n",
       "<style scoped>\n",
       "    .dataframe tbody tr th:only-of-type {\n",
       "        vertical-align: middle;\n",
       "    }\n",
       "\n",
       "    .dataframe tbody tr th {\n",
       "        vertical-align: top;\n",
       "    }\n",
       "\n",
       "    .dataframe thead th {\n",
       "        text-align: right;\n",
       "    }\n",
       "</style>\n",
       "<table border=\"1\" class=\"dataframe\">\n",
       "  <thead>\n",
       "    <tr style=\"text-align: right;\">\n",
       "      <th>col_0</th>\n",
       "      <th>cont</th>\n",
       "    </tr>\n",
       "    <tr>\n",
       "      <th>prediction</th>\n",
       "      <th></th>\n",
       "    </tr>\n",
       "  </thead>\n",
       "  <tbody>\n",
       "    <tr>\n",
       "      <th>0</th>\n",
       "      <td>441</td>\n",
       "    </tr>\n",
       "    <tr>\n",
       "      <th>1</th>\n",
       "      <td>795</td>\n",
       "    </tr>\n",
       "  </tbody>\n",
       "</table>\n",
       "</div>"
      ],
      "text/plain": [
       "col_0       cont\n",
       "prediction      \n",
       "0            441\n",
       "1            795"
      ]
     },
     "execution_count": 77,
     "metadata": {},
     "output_type": "execute_result"
    }
   ],
   "source": [
    "threshold = 0.05\n",
    "prob_df[\"prediction\"] = np.where(prob_df[0]>threshold, 1, 0)\n",
    "pd.crosstab(prob_df.prediction, columns=\"cont\")"
   ]
  },
  {
   "cell_type": "code",
   "execution_count": 78,
   "metadata": {},
   "outputs": [
    {
     "data": {
      "text/plain": [
       "64.32038834951457"
      ]
     },
     "execution_count": 78,
     "metadata": {},
     "output_type": "execute_result"
    }
   ],
   "source": [
    "795/len(prob_df)*100"
   ]
  },
  {
   "cell_type": "code",
   "execution_count": 79,
   "metadata": {},
   "outputs": [],
   "source": [
    "from sklearn import metrics"
   ]
  },
  {
   "cell_type": "code",
   "execution_count": 80,
   "metadata": {},
   "outputs": [
    {
     "data": {
      "text/plain": [
       "0.9004854368932039"
      ]
     },
     "execution_count": 80,
     "metadata": {},
     "output_type": "execute_result"
    }
   ],
   "source": [
    "metrics.accuracy_score(Y_test, prediction)"
   ]
  },
  {
   "cell_type": "markdown",
   "metadata": {},
   "source": [
    "## Validación cruzada"
   ]
  },
  {
   "cell_type": "code",
   "execution_count": 81,
   "metadata": {},
   "outputs": [],
   "source": [
    "from sklearn.model_selection import cross_val_score"
   ]
  },
  {
   "cell_type": "code",
   "execution_count": 113,
   "metadata": {},
   "outputs": [],
   "source": [
    "scores = cross_val_score(linear_model.LogisticRegression(max_iter=1000), X, Y, scoring=\"accuracy\", cv=12)"
   ]
  },
  {
   "cell_type": "code",
   "execution_count": 114,
   "metadata": {},
   "outputs": [
    {
     "data": {
      "text/plain": [
       "array([0.88953488, 0.90116279, 0.89244186, 0.88629738, 0.88921283,\n",
       "       0.88046647, 0.89795918, 0.88338192, 0.88046647, 0.88921283,\n",
       "       0.89504373, 0.89212828])"
      ]
     },
     "execution_count": 114,
     "metadata": {},
     "output_type": "execute_result"
    }
   ],
   "source": [
    "scores"
   ]
  },
  {
   "cell_type": "code",
   "execution_count": 115,
   "metadata": {},
   "outputs": [
    {
     "data": {
      "text/plain": [
       "0.8897757192578027"
      ]
     },
     "execution_count": 115,
     "metadata": {},
     "output_type": "execute_result"
    }
   ],
   "source": [
    "scores.mean()"
   ]
  },
  {
   "cell_type": "markdown",
   "metadata": {},
   "source": [
    "## Matrices de confusión y curvas ROOC "
   ]
  },
  {
   "cell_type": "code",
   "execution_count": 116,
   "metadata": {},
   "outputs": [],
   "source": [
    "X_train, X_test, Y_train, Y_test = train_test_split(X,Y,test_size=0.3, random_state =0)"
   ]
  },
  {
   "cell_type": "code",
   "execution_count": 119,
   "metadata": {},
   "outputs": [
    {
     "data": {
      "text/plain": [
       "LogisticRegression(C=1.0, class_weight=None, dual=False, fit_intercept=True,\n",
       "                   intercept_scaling=1, l1_ratio=None, max_iter=2000,\n",
       "                   multi_class='auto', n_jobs=None, penalty='l2',\n",
       "                   random_state=None, solver='lbfgs', tol=0.0001, verbose=0,\n",
       "                   warm_start=False)"
      ]
     },
     "execution_count": 119,
     "metadata": {},
     "output_type": "execute_result"
    }
   ],
   "source": [
    "lm = linear_model.LogisticRegression(max_iter=2000)\n",
    "lm.fit(X_train, Y_train)"
   ]
  },
  {
   "cell_type": "code",
   "execution_count": 120,
   "metadata": {},
   "outputs": [],
   "source": [
    "probs = lm.predict_proba(X_test)"
   ]
  },
  {
   "cell_type": "code",
   "execution_count": 121,
   "metadata": {},
   "outputs": [],
   "source": [
    "prob = probs[:,1]\n",
    "prob_df = pd.DataFrame(prob)"
   ]
  },
  {
   "cell_type": "code",
   "execution_count": 125,
   "metadata": {},
   "outputs": [
    {
     "data": {
      "text/html": [
       "<div>\n",
       "<style scoped>\n",
       "    .dataframe tbody tr th:only-of-type {\n",
       "        vertical-align: middle;\n",
       "    }\n",
       "\n",
       "    .dataframe tbody tr th {\n",
       "        vertical-align: top;\n",
       "    }\n",
       "\n",
       "    .dataframe thead th {\n",
       "        text-align: right;\n",
       "    }\n",
       "</style>\n",
       "<table border=\"1\" class=\"dataframe\">\n",
       "  <thead>\n",
       "    <tr style=\"text-align: right;\">\n",
       "      <th></th>\n",
       "      <th>0</th>\n",
       "      <th>prediction</th>\n",
       "      <th>actual</th>\n",
       "    </tr>\n",
       "  </thead>\n",
       "  <tbody>\n",
       "    <tr>\n",
       "      <th>0</th>\n",
       "      <td>0.058549</td>\n",
       "      <td>0</td>\n",
       "      <td>0</td>\n",
       "    </tr>\n",
       "    <tr>\n",
       "      <th>1</th>\n",
       "      <td>0.094535</td>\n",
       "      <td>0</td>\n",
       "      <td>0</td>\n",
       "    </tr>\n",
       "    <tr>\n",
       "      <th>2</th>\n",
       "      <td>0.058549</td>\n",
       "      <td>0</td>\n",
       "      <td>0</td>\n",
       "    </tr>\n",
       "    <tr>\n",
       "      <th>3</th>\n",
       "      <td>0.055829</td>\n",
       "      <td>0</td>\n",
       "      <td>0</td>\n",
       "    </tr>\n",
       "    <tr>\n",
       "      <th>4</th>\n",
       "      <td>0.085174</td>\n",
       "      <td>0</td>\n",
       "      <td>0</td>\n",
       "    </tr>\n",
       "    <tr>\n",
       "      <th>...</th>\n",
       "      <td>...</td>\n",
       "      <td>...</td>\n",
       "      <td>...</td>\n",
       "    </tr>\n",
       "    <tr>\n",
       "      <th>1231</th>\n",
       "      <td>0.055829</td>\n",
       "      <td>0</td>\n",
       "      <td>0</td>\n",
       "    </tr>\n",
       "    <tr>\n",
       "      <th>1232</th>\n",
       "      <td>0.030535</td>\n",
       "      <td>0</td>\n",
       "      <td>0</td>\n",
       "    </tr>\n",
       "    <tr>\n",
       "      <th>1233</th>\n",
       "      <td>0.198292</td>\n",
       "      <td>1</td>\n",
       "      <td>0</td>\n",
       "    </tr>\n",
       "    <tr>\n",
       "      <th>1234</th>\n",
       "      <td>0.025845</td>\n",
       "      <td>0</td>\n",
       "      <td>0</td>\n",
       "    </tr>\n",
       "    <tr>\n",
       "      <th>1235</th>\n",
       "      <td>0.502968</td>\n",
       "      <td>1</td>\n",
       "      <td>1</td>\n",
       "    </tr>\n",
       "  </tbody>\n",
       "</table>\n",
       "<p>1236 rows × 3 columns</p>\n",
       "</div>"
      ],
      "text/plain": [
       "             0  prediction  actual\n",
       "0     0.058549           0       0\n",
       "1     0.094535           0       0\n",
       "2     0.058549           0       0\n",
       "3     0.055829           0       0\n",
       "4     0.085174           0       0\n",
       "...        ...         ...     ...\n",
       "1231  0.055829           0       0\n",
       "1232  0.030535           0       0\n",
       "1233  0.198292           1       0\n",
       "1234  0.025845           0       0\n",
       "1235  0.502968           1       1\n",
       "\n",
       "[1236 rows x 3 columns]"
      ]
     },
     "execution_count": 125,
     "metadata": {},
     "output_type": "execute_result"
    }
   ],
   "source": [
    "threshold = 0.1\n",
    "prob_df[\"prediction\"] = np.where(prob_df[0]>=threshold, 1, 0)\n",
    "prob_df[\"actual\"] = list(Y_test)\n",
    "prob_df"
   ]
  },
  {
   "cell_type": "code",
   "execution_count": 128,
   "metadata": {},
   "outputs": [],
   "source": [
    "confusion_matrix = pd.crosstab(prob_df.prediction, prob_df.actual)"
   ]
  },
  {
   "cell_type": "code",
   "execution_count": 129,
   "metadata": {},
   "outputs": [
    {
     "data": {
      "text/html": [
       "<div>\n",
       "<style scoped>\n",
       "    .dataframe tbody tr th:only-of-type {\n",
       "        vertical-align: middle;\n",
       "    }\n",
       "\n",
       "    .dataframe tbody tr th {\n",
       "        vertical-align: top;\n",
       "    }\n",
       "\n",
       "    .dataframe thead th {\n",
       "        text-align: right;\n",
       "    }\n",
       "</style>\n",
       "<table border=\"1\" class=\"dataframe\">\n",
       "  <thead>\n",
       "    <tr style=\"text-align: right;\">\n",
       "      <th>actual</th>\n",
       "      <th>0</th>\n",
       "      <th>1</th>\n",
       "    </tr>\n",
       "    <tr>\n",
       "      <th>prediction</th>\n",
       "      <th></th>\n",
       "      <th></th>\n",
       "    </tr>\n",
       "  </thead>\n",
       "  <tbody>\n",
       "    <tr>\n",
       "      <th>0</th>\n",
       "      <td>822</td>\n",
       "      <td>40</td>\n",
       "    </tr>\n",
       "    <tr>\n",
       "      <th>1</th>\n",
       "      <td>292</td>\n",
       "      <td>82</td>\n",
       "    </tr>\n",
       "  </tbody>\n",
       "</table>\n",
       "</div>"
      ],
      "text/plain": [
       "actual        0   1\n",
       "prediction         \n",
       "0           822  40\n",
       "1           292  82"
      ]
     },
     "execution_count": 129,
     "metadata": {},
     "output_type": "execute_result"
    }
   ],
   "source": [
    "confusion_matrix"
   ]
  },
  {
   "cell_type": "code",
   "execution_count": 153,
   "metadata": {},
   "outputs": [],
   "source": [
    "TN = confusion_matrix[0][0]\n",
    "TP = confusion_matrix[1][1]\n",
    "FP = confusion_matrix[0][1]\n",
    "FN = confusion_matrix[1][0]"
   ]
  },
  {
   "cell_type": "code",
   "execution_count": 154,
   "metadata": {},
   "outputs": [
    {
     "data": {
      "text/plain": [
       "0.13934426229508196"
      ]
     },
     "execution_count": 154,
     "metadata": {},
     "output_type": "execute_result"
    }
   ],
   "source": [
    "sens = TP/(TP + FN)\n",
    "sens"
   ]
  },
  {
   "cell_type": "code",
   "execution_count": 155,
   "metadata": {},
   "outputs": [
    {
     "data": {
      "text/plain": [
       "0.016157989228007152"
      ]
     },
     "execution_count": 155,
     "metadata": {},
     "output_type": "execute_result"
    }
   ],
   "source": [
    "espc_1 = 1-TN/(TN + FP)\n",
    "espc_1"
   ]
  },
  {
   "cell_type": "code",
   "execution_count": 156,
   "metadata": {},
   "outputs": [
    {
     "data": {
      "text/plain": [
       "[0.860655737704918,\n",
       " 0.8524590163934426,\n",
       " 0.7213114754098361,\n",
       " 0.6721311475409836,\n",
       " 0.6065573770491803,\n",
       " 0.5245901639344263,\n",
       " 0.5163934426229508,\n",
       " 0.45081967213114754,\n",
       " 0.3770491803278688,\n",
       " 0.2459016393442623,\n",
       " 0.13934426229508196]"
      ]
     },
     "execution_count": 156,
     "metadata": {},
     "output_type": "execute_result"
    }
   ],
   "source": [
    "sensitibities"
   ]
  },
  {
   "cell_type": "code",
   "execution_count": 165,
   "metadata": {},
   "outputs": [],
   "source": [
    "threshold = [0.04, 0.05, 0.07, 0.1, 0.12, 0.15, 0.18, 0.25, 0.3, 0.4, 0.5]\n",
    "sensitibities = [1]\n",
    "especifities_1 = [1]\n",
    "for t in threshold:\n",
    "    prob_df[\"prediction\"] = np.where(prob_df[0]>=t, 1, 0)\n",
    "    prob_df[\"actual\"] = list(Y_test)\n",
    "    prob_df\n",
    "    confusion_matrix = pd.crosstab(prob_df.prediction, prob_df.actual)\n",
    "    TN = confusion_matrix[0][0]\n",
    "    TP = confusion_matrix[1][1]\n",
    "    FP = confusion_matrix[0][1]\n",
    "    FN = confusion_matrix[1][0]\n",
    "    sens = TP/(TP + FN)\n",
    "    sensitibities.append(sens)\n",
    "    espc_1 = 1-TN/(TN + FP)\n",
    "    especifities_1.append(espc_1)\n",
    "sensitibities.append(0)\n",
    "especifities_1.append(0)"
   ]
  },
  {
   "cell_type": "code",
   "execution_count": 166,
   "metadata": {},
   "outputs": [
    {
     "data": {
      "text/plain": [
       "[1,\n",
       " 0.6418312387791741,\n",
       " 0.6202872531418313,\n",
       " 0.35727109515260325,\n",
       " 0.26211849192100534,\n",
       " 0.17953321364452424,\n",
       " 0.13464991023339323,\n",
       " 0.125673249551167,\n",
       " 0.0825852782764811,\n",
       " 0.060143626570915654,\n",
       " 0.03590664272890487,\n",
       " 0.016157989228007152,\n",
       " 0]"
      ]
     },
     "execution_count": 166,
     "metadata": {},
     "output_type": "execute_result"
    }
   ],
   "source": [
    "especifities_1"
   ]
  },
  {
   "cell_type": "code",
   "execution_count": 167,
   "metadata": {},
   "outputs": [],
   "source": [
    "import matplotlib.pyplot as plt"
   ]
  },
  {
   "cell_type": "code",
   "execution_count": 169,
   "metadata": {},
   "outputs": [
    {
     "data": {
      "text/plain": [
       "Text(0.5, 1.0, 'Curva ROOC')"
      ]
     },
     "execution_count": 169,
     "metadata": {},
     "output_type": "execute_result"
    },
    {
     "data": {
      "image/png": "[encoded data removed]",
      "text/plain": [
       "<Figure size 432x288 with 1 Axes>"
      ]
     },
     "metadata": {
      "needs_background": "light"
     },
     "output_type": "display_data"
    }
   ],
   "source": [
    "%matplotlib inline\n",
    "plt.plot(especifities_1, sensitibities, marker=\"o\", linestyle = \"--\", color=\"r\")\n",
    "x=[i*0.01 for i in range(100)]\n",
    "y=[i*0.01 for i in range(100)]\n",
    "plt.plot(x,y)\n",
    "plt.xlabel(\"1-especificidad\")\n",
    "plt.ylabel(\"Sensibilidad\")\n",
    "plt.title(\"Curva ROOC\")"
   ]
  },
  {
   "cell_type": "code",
   "execution_count": 202,
   "metadata": {},
   "outputs": [],
   "source": [
    "from sklearn import metrics\n",
    "from pandas import Timestamp\n",
    "from ggplot import *"
   ]
  },
  {
   "cell_type": "code",
   "execution_count": 203,
   "metadata": {},
   "outputs": [],
   "source": [
    "espc_1, sensit, _ =metrics.roc_curve(Y_test, prob)"
   ]
  },
  {
   "cell_type": "code",
   "execution_count": 204,
   "metadata": {},
   "outputs": [],
   "source": [
    "df = pd.DataFrame({\n",
    "    \"x\":espc_1,\n",
    "    \"y\": sensit\n",
    "})"
   ]
  },
  {
   "cell_type": "code",
   "execution_count": 205,
   "metadata": {},
   "outputs": [
    {
     "data": {
      "text/html": [
       "<div>\n",
       "<style scoped>\n",
       "    .dataframe tbody tr th:only-of-type {\n",
       "        vertical-align: middle;\n",
       "    }\n",
       "\n",
       "    .dataframe tbody tr th {\n",
       "        vertical-align: top;\n",
       "    }\n",
       "\n",
       "    .dataframe thead th {\n",
       "        text-align: right;\n",
       "    }\n",
       "</style>\n",
       "<table border=\"1\" class=\"dataframe\">\n",
       "  <thead>\n",
       "    <tr style=\"text-align: right;\">\n",
       "      <th></th>\n",
       "      <th>x</th>\n",
       "      <th>y</th>\n",
       "    </tr>\n",
       "  </thead>\n",
       "  <tbody>\n",
       "    <tr>\n",
       "      <th>0</th>\n",
       "      <td>0.000000</td>\n",
       "      <td>0.000000</td>\n",
       "    </tr>\n",
       "    <tr>\n",
       "      <th>1</th>\n",
       "      <td>0.000898</td>\n",
       "      <td>0.000000</td>\n",
       "    </tr>\n",
       "    <tr>\n",
       "      <th>2</th>\n",
       "      <td>0.000898</td>\n",
       "      <td>0.008197</td>\n",
       "    </tr>\n",
       "    <tr>\n",
       "      <th>3</th>\n",
       "      <td>0.001795</td>\n",
       "      <td>0.008197</td>\n",
       "    </tr>\n",
       "    <tr>\n",
       "      <th>4</th>\n",
       "      <td>0.003591</td>\n",
       "      <td>0.008197</td>\n",
       "    </tr>\n",
       "  </tbody>\n",
       "</table>\n",
       "</div>"
      ],
      "text/plain": [
       "          x         y\n",
       "0  0.000000  0.000000\n",
       "1  0.000898  0.000000\n",
       "2  0.000898  0.008197\n",
       "3  0.001795  0.008197\n",
       "4  0.003591  0.008197"
      ]
     },
     "execution_count": 205,
     "metadata": {},
     "output_type": "execute_result"
    }
   ],
   "source": [
    "df.head()"
   ]
  },
  {
   "cell_type": "code",
   "execution_count": 208,
   "metadata": {},
   "outputs": [
    {
     "data": {
      "image/png": "[encoded data removed]",
      "text/plain": [
       "<Figure size 792x576 with 1 Axes>"
      ]
     },
     "metadata": {},
     "output_type": "display_data"
    },
    {
     "data": {
      "text/plain": [
       "<ggplot: (-9223371915330607204)>"
      ]
     },
     "execution_count": 208,
     "metadata": {},
     "output_type": "execute_result"
    }
   ],
   "source": [
    "ggplot(df, aes(x=\"x\", y=\"y\")) +geom_line() + geom_abline(linetype=\"dashed\")+xlim(-0.01,1.01)+ylim(-0.01,1.01)+xlab(\"1-Especifidad\")+ylab(\"Sensibilidad\")"
   ]
  },
  {
   "cell_type": "code",
   "execution_count": 210,
   "metadata": {},
   "outputs": [
    {
     "data": {
      "text/plain": [
       "0.7620964181652293"
      ]
     },
     "execution_count": 210,
     "metadata": {},
     "output_type": "execute_result"
    }
   ],
   "source": [
    "auc = metrics.auc(espc_1,sensit)\n",
    "auc"
   ]
  },
  {
   "cell_type": "code",
   "execution_count": 219,
   "metadata": {},
   "outputs": [
    {
     "data": {
      "image/png": "[encoded data removed]",
      "text/plain": [
       "<Figure size 792x576 with 1 Axes>"
      ]
     },
     "metadata": {},
     "output_type": "display_data"
    },
    {
     "data": {
      "text/plain": [
       "<ggplot: (-9223371915329560840)>"
      ]
     },
     "execution_count": 219,
     "metadata": {},
     "output_type": "execute_result"
    }
   ],
   "source": [
    "ggplot(df, aes(x=\"x\", y=\"y\")) + geom_area(alpha=0.65)+geom_line(aes(y=\"y\"))+ggtitle(\"Curva ROC y AUC=%s\"%str(auc))"
   ]
  },
  {
   "cell_type": "code",
   "execution_count": null,
   "metadata": {},
   "outputs": [],
   "source": []
  }
 ],
 "metadata": {
  "kernelspec": {
   "display_name": "Python 3",
   "language": "python",
   "name": "python3"
  },
  "language_info": {
   "codemirror_mode": {
    "name": "ipython",
    "version": 3
   },
   "file_extension": ".py",
   "mimetype": "text/x-python",
   "name": "python",
   "nbconvert_exporter": "python",
   "pygments_lexer": "ipython3",
   "version": "3.7.6"
  }
 },
 "nbformat": 4,
 "nbformat_minor": 4
}
